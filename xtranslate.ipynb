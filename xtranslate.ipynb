{
 "cells": [
  {
   "cell_type": "code",
   "execution_count": null,
   "metadata": {},
   "outputs": [],
   "source": [
    "import spacy\n",
    "import pandas as pd\n",
    "\n",
    "import unidecode \n",
    "\n",
    "\n",
    "# from spacy.lang.nl import STOP_WORDS\n",
    "# from string import punctuation\n",
    "# from collections import Counter\n",
    "# from heapq import nlargest\n"
   ]
  },
  {
   "cell_type": "code",
   "execution_count": null,
   "metadata": {},
   "outputs": [],
   "source": [
    "import transformers\n",
    "from transformers import pipeline\n",
    "\n",
    "\n",
    "from transformers import RobertaTokenizer, RobertaForSequenceClassification\n",
    "tokenizer = RobertaTokenizer.from_pretrained(\"pdelobelle/robbert-v2-dutch-base\")\n",
    "model = RobertaForSequenceClassification.from_pretrained(\"pdelobelle/robbert-v2-dutch-base\")\n",
    "\n",
    "\n",
    "\n"
   ]
  },
  {
   "cell_type": "code",
   "execution_count": null,
   "metadata": {},
   "outputs": [],
   "source": [
    "sequence='brussels hoofdstedelijk gewest januari . ministerieel besluit tot vaststelling van de modellen van formulier bedoeld in artikel , ss van het besluit van de brusselse hoofdstedelijke regering van januari tot vaststelling van de modaliteiten van het gunstregime toepasselijk op de successierechten bij overdracht van familiale ondernemingen en familiale vennootschappen de minister van de brusselse hoofdstedelijke regering, belast met financien en begroting, gelet op het wetboek der successierechten, artikel bis , ss , ingevoegd door de ordonnantie van december houdende het tweede deel van de fiscale hervorming gelet op het besluit van de brusselse hoofdstedelijke regering van januari tot vaststelling van de modaliteiten van het gunstregime toepasselijk op de successierechten bij overdracht van familiale ondernemingen en familiale vennootschappen, artikel gelet op de gelijkekansentest uitgevoerd in toepassing van artikel van de ordonnantie van oktober tot invoering van de gelijkekansentest overwegende dat artikel van bovengenoemd besluit stelt dat de minister van de brusselse hoofdstedelijke regering, belast met financien en begroting, bevoegd is om het formulier dat bedoeld is om na te gaan of de voorwaarden voor het behoud van de het fiscale gunstregime, dat werd bekomen in het kader van de overdracht van een familiale onderneming of een familiale vennootschap, vervuld zijn gebleven tot het einde van de driejarige periode die aanving bij het overlijden van de decujus, zoals bedoeld in artikel bis , ss , van het wetboek der successierechten overwegende dat dit ministerieel besluit geen reglementaire voorschriften bevat in de zin van artikel , ss , eerste lid, van de gecoordineerde wetten van de raad van state van januari , is het niet onderworpen aan het advies van de raad van state, afdeling wetgeving, besluit : artikel . het formulier dat bedoeld is om na te gaan of de voorwaarden voor het behoud van de het fiscale gunstregime, dat werd bekomen in het kader van de overdracht van een familiale onderneming, vervuld zijn gebleven tot het einde van de driejarige periode die aanving bij het overlijden van de decujus, zoals bedoeld in artikel bis , ss van het wetboek der successierechten, is hernomen in bijlage van dit besluit. art. . het formulier dat bedoeld is om na te gaan of de voorwaarden voor het behoud van het fiscale gunstregime, dat werd bekomen in het kader van het overdracht van een familiale vennootschap, vervuld zijn gebleven tot het einde van de driejarige periode die aanving bij het overlijden van de decujus, zoals bedoeld in artikel bis , ss van het wetboek der successierechten, is hernomen in bijlage bij dit besluit. art. . dit besluit heeft uitwerking met ingang van januari . brussel, januari . de minister van de brusselse hoofdstedelijke regering, belast met financien, begroting, openbaar ambt en de promotie van meertaligheid, s. gatz voor de raadpleging van de tabel, zie beeld'\n",
    "\n",
    "\n"
   ]
  },
  {
   "cell_type": "code",
   "execution_count": null,
   "metadata": {},
   "outputs": [],
   "source": [
    "labels=['Aanslagjaar','Aftrekbarebesteding','afvalbelastingen','Bedrijfsvoorheffing','belastbaartijdperk','belastingaangifte','belastingenopberoepsinkomsten','belastingenoponroerendegoederen','belastingkorting','Belastingkrediet','Belastingontwijking','belastingoverdetoegevoegdewaarde','belastingteruggave','belastingvermindering','Belastingvrijesom','Belcotax-on-web','Biztax','Bronbelasting','BTW','Decumul','FinProf','fiscaalvoordeel','fiscalebepalingenbelastingontduiking','fiscalehervorming','fiscaleschuldvorderingen','fiscaleschuldvorderingen','fiscalestimulans','Forfaitaireberoepskosten','Inkomstenbelastingen','Intervat','kadastraalinkomen','milieutaksen','onroerendevoorheffing','Opcentiemen','Progressievebelastingtarieven','provinciebelastingen','rechtspersonenbelasting','roerendevoorheffing','successierechten','vennootschapsbelasting','verbruiksbelastingen','verkeersbelastingen'\n",
    "]"
   ]
  },
  {
   "cell_type": "code",
   "execution_count": null,
   "metadata": {},
   "outputs": [],
   "source": [
    "classifier = pipeline(\"zero-shot-classification\", \n",
    "                      model=model,tokenizer=tokenizer)\n",
    "\n",
    "#sequence = \"L'équipe de France joue aujourd'hui au Parc des Princes\"\n",
    "#candidate_labels = [\"sport\",\"politique\",\"science\"]\n",
    "hypothesis_template = \"Ce texte parle de {}.\"    \n",
    "\n",
    "classifier(sequence, labels, hypothesis_template=hypothesis_template)     \n",
    "                                    "
   ]
  },
  {
   "cell_type": "code",
   "execution_count": null,
   "metadata": {},
   "outputs": [],
   "source": [
    "df=pd.read_csv(\"data_03.csv\",sep=\"|\")"
   ]
  },
  {
   "cell_type": "code",
   "execution_count": null,
   "metadata": {},
   "outputs": [],
   "source": [
    "l=df['nl_body']"
   ]
  },
  {
   "cell_type": "code",
   "execution_count": null,
   "metadata": {},
   "outputs": [],
   "source": [
    "def reducing_incorrect_character_repeatation(text):\n",
    "    Pattern_alpha = re.compile(r\"([A-Za-z])\\1{1,}\", re.DOTALL)\n",
    "    \n",
    "    # Limiting all the  repeatation to two characters.\n",
    "    Formatted_text = Pattern_alpha.sub(r\"\\1\\1\", text) \n",
    "    \n",
    "    # Pattern matching for all the punctuations that can occur\n",
    "    Pattern_Punct = re.compile(r'([.,/#!$%^&*?;:{}=_`~()+-])\\1{1,}')\n",
    "    \n",
    "    # Limiting punctuations in previously formatted string to only one.\n",
    "    Combined_Formatted = Pattern_Punct.sub(r'\\1', Formatted_text)\n",
    "    \n",
    "    # The below statement is replacing repeatation of spaces that occur more than two times with that of one occurrence.\n",
    "    Final_Formatted = re.sub(' {2,}',' ', Combined_Formatted)\n",
    "    return Final_Formatted"
   ]
  },
  {
   "cell_type": "code",
   "execution_count": null,
   "metadata": {},
   "outputs": [],
   "source": [
    "import re\n",
    "import string\n",
    "\n",
    "documents_clean = []\n",
    "for d in l[0:6]:\n",
    "    d=re.sub(r'(?<=[.,;,:])(?=[^\\s])', r' ', d)\n",
    "    \n",
    "\n",
    "\n",
    "    document_test= unidecode.unidecode(d)\n",
    "    document_test = document_test.replace('\\\\n', ' ').replace('\\n', ' ').replace('\\t',' ').replace('\\\\', ' ').replace('. com', '.com')\n",
    "\n",
    "    \n",
    "\n",
    "       \n",
    "    pattern = re.compile(r'\\s+') \n",
    "    Without_whitespace = re.sub(pattern, ' ', document_test)\n",
    "    # There are some instances where there is no space after '?' & ')', \n",
    "    # So I am replacing these with one space so that It will not consider two words as one token.\n",
    "    document_test = Without_whitespace.replace('?', ' ? ').replace(')', ') ')\n",
    "    document_test = document_test.lower()\n",
    "    document_test=reducing_incorrect_character_repeatation(document_test)\n",
    "\n",
    "    document_test = re.sub(r\"[^a-zA-Z0-9:$-,%.?!]+\", ' ', document_test) \n",
    "\n",
    "   \n",
    "    # Remove Mentions\n",
    "    document_test = re.sub(r'@\\w+', '', document_test)\n",
    "    document_test = re.sub(r\"[^a-zA-Z:$-,%.?!]+\", ' ', document_test)\n",
    "\n",
    "    documents_clean.append(document_test)"
   ]
  },
  {
   "cell_type": "code",
   "execution_count": null,
   "metadata": {},
   "outputs": [],
   "source": [
    "documents_clean[0]"
   ]
  },
  {
   "cell_type": "code",
   "execution_count": null,
   "metadata": {},
   "outputs": [],
   "source": [
    "text=documents_clean[0]\n",
    "text"
   ]
  },
  {
   "cell_type": "code",
   "execution_count": null,
   "metadata": {},
   "outputs": [],
   "source": [
    "from transformers import pipeline\n",
    "\n",
    "# Init translator\n",
    "translator = pipeline(\"translation_nl_to_en\",model=model,tokenizer=tokenizer)\n",
    "\n",
    "# Translate text\n",
    "#text = \"Hello my friends! How are you doing today?\"\n",
    "translation = translator(text)\n",
    "\n",
    "# Print translation\n",
    "print(translation)\n"
   ]
  },
  {
   "cell_type": "code",
   "execution_count": null,
   "metadata": {},
   "outputs": [],
   "source": []
  }
 ],
 "metadata": {
  "interpreter": {
   "hash": "78048d5901510aba3f63ef87ca1b57ab9d805b11f89c30917e9241a8225bb540"
  },
  "kernelspec": {
   "display_name": "Python 3.10.2 ('venvkpmg': venv)",
   "language": "python",
   "name": "python3"
  },
  "language_info": {
   "codemirror_mode": {
    "name": "ipython",
    "version": 3
   },
   "file_extension": ".py",
   "mimetype": "text/x-python",
   "name": "python",
   "nbconvert_exporter": "python",
   "pygments_lexer": "ipython3",
   "version": "3.10.2"
  },
  "orig_nbformat": 4
 },
 "nbformat": 4,
 "nbformat_minor": 2
}
