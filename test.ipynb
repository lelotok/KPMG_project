{
 "cells": [
  {
   "cell_type": "code",
   "execution_count": null,
   "metadata": {},
   "outputs": [],
   "source": [
    "import spacy\n",
    "import pandas as pd\n",
    "\n",
    "import unidecode \n",
    "\n",
    "\n",
    "from spacy.lang.nl import STOP_WORDS\n",
    "from string import punctuation\n",
    "from collections import Counter\n",
    "from heapq import nlargest\n"
   ]
  },
  {
   "cell_type": "code",
   "execution_count": null,
   "metadata": {},
   "outputs": [],
   "source": [
    "from transformers import AutoTokenizer, AutoModelForSeq2SeqLM\n",
    "\n",
    "tokenizer = AutoTokenizer.from_pretrained(\"yhavinga/t5-v1.1-base-dutch-cnn-test\")\n",
    "\n",
    "model = AutoModelForSeq2SeqLM.from_pretrained(\"yhavinga/t5-v1.1-base-dutch-cnn-test\")"
   ]
  },
  {
   "cell_type": "code",
   "execution_count": null,
   "metadata": {},
   "outputs": [],
   "source": []
  },
  {
   "cell_type": "code",
   "execution_count": null,
   "metadata": {},
   "outputs": [],
   "source": [
    "df=pd.read_csv(\"data_03.csv\",sep=\"|\")"
   ]
  },
  {
   "cell_type": "code",
   "execution_count": null,
   "metadata": {},
   "outputs": [],
   "source": [
    "nlp = spacy.load(\"nl_core_news_lg\")"
   ]
  },
  {
   "cell_type": "code",
   "execution_count": null,
   "metadata": {},
   "outputs": [],
   "source": [
    "#LOWER CASE SEARCH \n",
    "#LEMMA THE KEYWORDS\n",
    "#LEMMA THE ARTICLE\n",
    "\n",
    "nl_tax_keywords = [\"Aanslagjaar\",\"successierechten\",\"Wetboek der Successierechten\",\"fiscale hervorming\",\"fiscale gunstregime\",\"belasting over de toegevoegde waarde\",\n",
    "        \"BTW\",\"kadastraal inkomen\",\"onroerende voorheffing\",\"Algemene Administratie van de Fiscaliteit\",\"Inkomstenbelastingen\",\"belastingvermindering\",\"fiscale stimulans\",\n",
    "        \"belastbaar tijdperk\",\"Belcotax-on-web\",\"Bedrijfsvoorheffing\",\"Het Wetboek van de inkomstenbelastingen\",\"het Wetboek diverse rechten en taksen\",\n",
    "        \"fiscale schuldvorderingen\",\"het Wetboek diverse rechten en taksen\",\"fiscale schuldvorderingen\",\"belastingen op beroepsinkomsten\",\"vennootschapsbelastingen\",\n",
    "        \"belastingen op onroerende goederen\",\"verbruiksbelastingen\",\"verkeersbelastingen\",\"afvalbelastingen\",\"provinciebelastingen\",\"milieutaksen\",\"belastingaangifte\",\n",
    "        \"belastingteruggave\",\"Biztax\",\"Intervat\",\"Rv-on-web\",\"FinProf\",\"MyMinFinPro\",\"roerende voorheffing\",\"vennootschapsbelasting\",\"rechtspersonenbelasting\",\"belastingkorting\", \n",
    "        \"Bronbelasting\", \"fiscale bepalingenbelastingontduiking\",\"Belastingontwijking\",\"fiscaal voordeel\",\"Aftrekbare besteding\",\"Belastingvrije som\", \"Belastingkrediet\",\n",
    "        \"Decumul\",\"Forfaitaire beroepskosten\",\"Gemeenschappelijke aanslag\",\"Gemiddelde aanslagvoet\",\"Huwelijksquotiënt\",\"Inkomstenjaar\",\"Marginale aanslagvoet\",\n",
    "        \"Onroerende voorheffing\",\"Opcentiemen\",\"Progressieve belastingtarieven\",\"Verbeterd gemiddeld tarief\",\"Vrijstelling met progressievoorbehoud\"]\n"
   ]
  },
  {
   "cell_type": "code",
   "execution_count": 55,
   "metadata": {},
   "outputs": [],
   "source": [
    "labels=['inkomstenbelasting','Aanslagjaar','Aftrekbarebesteding','afvalbelastingen','Bedrijfsvoorheffing','belastbaartijdperk','belastingaangifte','belastingenopberoepsinkomsten','belastingenoponroerendegoederen','belastingkorting','Belastingkrediet','Belastingontwijking','belastingoverdetoegevoegdewaarde','belastingteruggave','belastingvermindering','Belastingvrijesom','Belcotax-on-web','Biztax','Bronbelasting','BTW','Decumul','FinProf','fiscaalvoordeel','fiscalebepalingenbelastingontduiking','fiscalehervorming','fiscaleschuldvorderingen','fiscaleschuldvorderingen','fiscalestimulans','Forfaitaireberoepskosten','Inkomstenbelastingen','Intervat','kadastraalinkomen','milieutaksen','onroerendevoorheffing','Opcentiemen','Progressievebelastingtarieven','provinciebelastingen','rechtspersonenbelasting','roerendevoorheffing','successierechten','vennootschapsbelasting','verbruiksbelastingen','verkeersbelastingen'\n",
    "]"
   ]
  },
  {
   "cell_type": "code",
   "execution_count": 62,
   "metadata": {},
   "outputs": [],
   "source": [
    "nl_tax_list=[]\n",
    "for _a in labels:\n",
    "    doc = nlp(_a)\n",
    "    for x in doc:\n",
    "        nl_tax_list.append(x.lemma_)\n",
    "\n"
   ]
  },
  {
   "cell_type": "code",
   "execution_count": null,
   "metadata": {},
   "outputs": [],
   "source": [
    "nl_tax_list"
   ]
  },
  {
   "cell_type": "code",
   "execution_count": 57,
   "metadata": {},
   "outputs": [],
   "source": [
    "def reducing_incorrect_character_repeatation(text):\n",
    "    \"\"\"\n",
    "    This Function will reduce repeatition to two characters \n",
    "    for alphabets and to one character for punctuations.\n",
    "    \n",
    "    arguments:\n",
    "         input_text: \"text\" of type \"String\".\n",
    "         \n",
    "    return:\n",
    "        value: Finally formatted text with alphabets repeating to \n",
    "        two characters & punctuations limited to one repeatition \n",
    "        \n",
    "    Example:\n",
    "    Input : Realllllllllyyyyy,        Greeeeaaaatttt   !!!!?....;;;;:)\n",
    "    Output : Reallyy, Greeaatt !?.;:)\n",
    "    \n",
    "    \"\"\"\n",
    "    # Pattern matching for all case alphabets\n",
    "    Pattern_alpha = re.compile(r\"([A-Za-z])\\1{1,}\", re.DOTALL)\n",
    "    \n",
    "    # Limiting all the  repeatation to two characters.\n",
    "    Formatted_text = Pattern_alpha.sub(r\"\\1\\1\", text) \n",
    "    \n",
    "    # Pattern matching for all the punctuations that can occur\n",
    "    Pattern_Punct = re.compile(r'([.,/#!$%^&*?;:{}=_`~()+-])\\1{1,}')\n",
    "    \n",
    "    # Limiting punctuations in previously formatted string to only one.\n",
    "    Combined_Formatted = Pattern_Punct.sub(r'\\1', Formatted_text)\n",
    "    \n",
    "    # The below statement is replacing repeatation of spaces that occur more than two times with that of one occurrence.\n",
    "    Final_Formatted = re.sub(' {2,}',' ', Combined_Formatted)\n",
    "    return Final_Formatted"
   ]
  },
  {
   "cell_type": "code",
   "execution_count": null,
   "metadata": {},
   "outputs": [],
   "source": [
    "l=df['nl_body']"
   ]
  },
  {
   "cell_type": "code",
   "execution_count": 67,
   "metadata": {},
   "outputs": [],
   "source": [
    "import re\n",
    "import string\n",
    "\n",
    "documents_clean = []\n",
    "for d in l[14:15]:\n",
    "    d=re.sub(r'(?<=[.,;,:])(?=[^\\s])', r' ', d)\n",
    "    \n",
    "\n",
    "\n",
    "    document_test= unidecode.unidecode(d)\n",
    "    document_test = document_test.replace('\\\\n', ' ').replace('\\n', ' ').replace('\\t',' ').replace('\\\\', ' ').replace('. com', '.com')\n",
    "\n",
    "    \n",
    "\n",
    "       \n",
    "    pattern = re.compile(r'\\s+') \n",
    "    Without_whitespace = re.sub(pattern, ' ', document_test)\n",
    "    # There are some instances where there is no space after '?' & ')', \n",
    "    # So I am replacing these with one space so that It will not consider two words as one token.\n",
    "    document_test = Without_whitespace.replace('?', ' ? ').replace(')', ') ')\n",
    "    document_test = document_test.lower()\n",
    "    document_test=reducing_incorrect_character_repeatation(document_test)\n",
    "\n",
    "    document_test = re.sub(r\"[^a-zA-Z0-9:$-,%.?!]+\", ' ', document_test) \n",
    "\n",
    "   \n",
    "    # Remove Mentions\n",
    "    document_test = re.sub(r'@\\w+', '', document_test)\n",
    "    document_test = re.sub(r\"[^a-zA-Z:$-,%.?!]+\", ' ', document_test)\n",
    "\n",
    "    documents_clean.append(document_test)\n",
    "    \n"
   ]
  },
  {
   "cell_type": "code",
   "execution_count": 68,
   "metadata": {},
   "outputs": [
    {
     "data": {
      "text/plain": [
       "29"
      ]
     },
     "execution_count": 68,
     "metadata": {},
     "output_type": "execute_result"
    }
   ],
   "source": [
    "text=documents_clean[0]\n",
    "doc = nlp(text)\n",
    "type(doc)\n",
    "len(list(doc.sents))"
   ]
  },
  {
   "cell_type": "code",
   "execution_count": 71,
   "metadata": {},
   "outputs": [
    {
     "data": {
      "text/plain": [
       "[('besluit', 21),\n",
       " ('koninklijk', 12),\n",
       " ('lening', 8),\n",
       " ('financiën', 8),\n",
       " ('artikel', 7),\n",
       " ('minister', 7),\n",
       " ('voordeel', 6),\n",
       " ('letten', 6),\n",
       " ('aan_vullen', 6),\n",
       " ('Staatsblad', 6)]"
      ]
     },
     "execution_count": 71,
     "metadata": {},
     "output_type": "execute_result"
    }
   ],
   "source": [
    "keyword=[]\n",
    "stopwords = list(STOP_WORDS)\n",
    "pos_tag = ['PROPN', 'ADJ', 'NOUN', 'VERB']\n",
    "for token in doc:\n",
    "    if(token.text in stopwords or token.text in punctuation):   # check lemma\n",
    "        continue\n",
    "    if(token.pos_ in pos_tag):\n",
    "        keyword.append(token.lemma_)\n",
    "freq_word=Counter(keyword)\n",
    "freq_word.most_common(10)"
   ]
  },
  {
   "cell_type": "code",
   "execution_count": 72,
   "metadata": {},
   "outputs": [
    {
     "data": {
      "text/plain": [
       "{'bedrijfsvoorheffing': 1}"
      ]
     },
     "execution_count": 72,
     "metadata": {},
     "output_type": "execute_result"
    }
   ],
   "source": [
    "highest={}\n",
    "for a in nl_tax_list:\n",
    "    if freq_word.get(a) !=None:\n",
    "        highest[a]=freq_word.get(a)\n",
    "\n",
    "highest\n",
    "    "
   ]
  },
  {
   "cell_type": "code",
   "execution_count": 73,
   "metadata": {},
   "outputs": [
    {
     "data": {
      "text/plain": [
       "federale overheidsdienst financien februari . koninklijk besluit tot wijziging van het kb wib , op het stuk van de voordelen van alle aard in geval van toekenning van een renteloze lening of een lening tegen verminderde rentevoet ( ) filip, koning der belgen, aan allen die nu zijn en hierna wezen zullen, onze groet. gelet op het wetboek van de inkomstenbelastingen , artikel , ss , tweede lid gelet op het kb wib gelet op het advies van de inspecteur van financien, gegeven op januari gelet op het enig artikel van het ministerieel besluit van maart tot toekenning van een bevoegdheidsdelegatie aan de inspectie van financien, waardoor, overeenkomstig artikel van het koninklijk besluit van november betreffende de administratieve en begrotingscontrole, het gunstig advies van de inspecteur van financien geaccrediteerd bij het ministerie van financien onder meer de ontwerpen van koninklijk besluit tot vastlegging van de voordelen van alle aard wat de renteloze leningen of leningen tegen verminderde rentevoet betreft (artikel , ss , punt , kb wib ) vrijstelt van de voorafgaandelijke akkoordbevinding van de minister tot wiens bevoegdheid de begroting behoort gelet op de wetten op de raad van state, gecoordineerd op januari , artikel , ss gelet op de dringende noodzakelijkheid overwegende: dat dit besluit het bedrag vaststelt van sommige voordelen van alle aard die in zijn verleend dat het bedrag van de voordelen en van de bedrijfsvoorheffing die ervoor is gestort, moet worden vermeld op fiches en op samenvattende opgaven ad hoc die bij de belastingdiensten moeten worden ingeleverd dat de voormelde voordelen zo spoedig mogelijk ter kennis van de belastingplichtigen moeten worden gebracht dat, om de vestiging en de inning van de belasting niet te vertragen, dit besluit zo spoedig mogelijk moet worden bekendgemaakt dat dit besluit dus dringend moet worden getroffen op de voordracht van de vice eerste minister en minister van financien, hebben wij besloten en besluiten wij : artikel . in artikel , ss , van het kb wib , laatst gewijzigd bij het koninklijke besluit van maart , worden de volgende wijzigingen aangebracht: deg in de tabel onder punt , b, wordt de kolom van het jaar waarin de leningsovereenkomst is gesloten, aangevuld met en wordt de kolom van de referentierentevoet aangevuld met , wat de leningen betreft waarvan de terugbetaling gewaarborgd is door een gemengde levensverzekering en , wat de andere leningen betreft deg in de tabel onder punt , c, deg, wordt de kolom van het jaar waarin de leningsovereenkomst is gesloten, aangevuld met en wordt de kolom van het maandelijks lastenpercentage aangevuld met , wat de leningen betreft om de aankoop van een wagen te financieren en met , wat de andere leningen betreft deg in de tabel onder punt , d, worden de kolommen van het jaar waarin de ontlener over de geleende bedragen heeft beschikt en van de in aanmerking te nemen rentevoet respectievelijk aangevuld met en , . art. . de diverse kolommen van de tabel die voorkomt in bijlage i, afdeling , van hetzelfde besluit, ingevoegd door het koninklijk besluit van maart en laatstelijk gewijzigd bij het koninklijk besluit van mars worden aangevuld zoals aangegeven in de bijlage van dit besluit. art. . dit besluit is van toepassing op de vanaf januari toegekende voordelen van alle aard. art. . de minister die bevoegd is voor financien, is belast met de uitvoering van dit besluit. gegeven te brussel, februari . filipvan koningswege : de vice eerste minister en minister van financien, a. de croo nota( ) verwijzingen naar het belgisch staatsblad: wetboek van de inkomstenbelastingen , gecoordineerd bij koninklijk besluit van april , belgisch staatsblad van juli . wetten op de raad van state, gecoordineerd bij koninklijk besluit van januari , belgisch staatsblad van maart . kb wib koninklijk besluit van augustus tot uitvoering van het wetboek van de inkomstenbelastingen , belgisch staatsblad van september . koninklijk besluit van november betreffende de administratieve en begrotingscontrole, belgisch staatsblad van januari . koninklijk besluit van maart , belgisch staatsblad van april . bijlage bij het koninklijk besluit van februari . annexe a l'arrete royal du fevrier . voor de raadpleging van de tabel, zie beeld gezien om te worden gevoegd bij ons besluit van februari . filipvan koningswege : de minister van financien, a. de croo"
      ]
     },
     "execution_count": 73,
     "metadata": {},
     "output_type": "execute_result"
    }
   ],
   "source": [
    "doc"
   ]
  },
  {
   "cell_type": "code",
   "execution_count": null,
   "metadata": {},
   "outputs": [],
   "source": []
  }
 ],
 "metadata": {
  "interpreter": {
   "hash": "78048d5901510aba3f63ef87ca1b57ab9d805b11f89c30917e9241a8225bb540"
  },
  "kernelspec": {
   "display_name": "Python 3.10.2 ('venvkpmg': venv)",
   "language": "python",
   "name": "python3"
  },
  "language_info": {
   "codemirror_mode": {
    "name": "ipython",
    "version": 3
   },
   "file_extension": ".py",
   "mimetype": "text/x-python",
   "name": "python",
   "nbconvert_exporter": "python",
   "pygments_lexer": "ipython3",
   "version": "3.10.2"
  },
  "orig_nbformat": 4
 },
 "nbformat": 4,
 "nbformat_minor": 2
}
