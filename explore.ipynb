{
 "cells": [
  {
   "cell_type": "code",
   "execution_count": 15,
   "metadata": {},
   "outputs": [],
   "source": [
    "import pandas as pd\n",
    "import numpy as np"
   ]
  },
  {
   "cell_type": "code",
   "execution_count": 16,
   "metadata": {},
   "outputs": [],
   "source": [
    "df = pd.read_csv('data/data_03.csv',sep=\"|\",encoding='utf-8')"
   ]
  },
  {
   "cell_type": "code",
   "execution_count": 17,
   "metadata": {},
   "outputs": [
    {
     "data": {
      "text/html": [
       "<div>\n",
       "<style scoped>\n",
       "    .dataframe tbody tr th:only-of-type {\n",
       "        vertical-align: middle;\n",
       "    }\n",
       "\n",
       "    .dataframe tbody tr th {\n",
       "        vertical-align: top;\n",
       "    }\n",
       "\n",
       "    .dataframe thead th {\n",
       "        text-align: right;\n",
       "    }\n",
       "</style>\n",
       "<table border=\"1\" class=\"dataframe\">\n",
       "  <thead>\n",
       "    <tr style=\"text-align: right;\">\n",
       "      <th></th>\n",
       "      <th>Date</th>\n",
       "      <th>Title</th>\n",
       "      <th>Numac</th>\n",
       "      <th>Link FR</th>\n",
       "      <th>Link NL</th>\n",
       "      <th>nl_body</th>\n",
       "      <th>fr_body</th>\n",
       "    </tr>\n",
       "  </thead>\n",
       "  <tbody>\n",
       "    <tr>\n",
       "      <th>778</th>\n",
       "      <td>04/04/2022</td>\n",
       "      <td>SERVICE PUBLIC FEDERAL FINANCES\\n29 MARS 2021....</td>\n",
       "      <td>2.022021e+09</td>\n",
       "      <td>http://www.ejustice.just.fgov.be/cgi/article_b...</td>\n",
       "      <td>http://www.ejustice.just.fgov.be/cgi/article_b...</td>\n",
       "      <td>FEDERALE OVERHEIDSDIENST FINANCIEN  29 MAART 2...</td>\n",
       "      <td>SERVICE PUBLIC FEDERAL FINANCES  29 MARS 2021....</td>\n",
       "    </tr>\n",
       "    <tr>\n",
       "      <th>779</th>\n",
       "      <td>04/04/2022</td>\n",
       "      <td>SERVICE PUBLIC FEDERAL SECURITE SOCIALE\\n23 MA...</td>\n",
       "      <td>2.022031e+09</td>\n",
       "      <td>http://www.ejustice.just.fgov.be/cgi/article_b...</td>\n",
       "      <td>http://www.ejustice.just.fgov.be/cgi/article_b...</td>\n",
       "      <td>FEDERALE OVERHEIDSDIENST SOCIALE ZEKERHEID   2...</td>\n",
       "      <td>SERVICE PUBLIC FEDERAL SECURITE SOCIALE   23 M...</td>\n",
       "    </tr>\n",
       "    <tr>\n",
       "      <th>780</th>\n",
       "      <td>04/04/2022</td>\n",
       "      <td>SERVICE PUBLIC FEDERAL FINANCES\\n23 FEVRIER 20...</td>\n",
       "      <td>2.022040e+09</td>\n",
       "      <td>http://www.ejustice.just.fgov.be/cgi/article_b...</td>\n",
       "      <td>http://www.ejustice.just.fgov.be/cgi/article_b...</td>\n",
       "      <td>FEDERALE OVERHEIDSDIENST FINANCIEN  23 FEBRUAR...</td>\n",
       "      <td>SERVICE PUBLIC FEDERAL FINANCES  23 FEVRIER 20...</td>\n",
       "    </tr>\n",
       "    <tr>\n",
       "      <th>781</th>\n",
       "      <td>04/04/2022</td>\n",
       "      <td>SERVICE PUBLIC FEDERAL EMPLOI, TRAVAIL ET CONC...</td>\n",
       "      <td>2.022202e+09</td>\n",
       "      <td>http://www.ejustice.just.fgov.be/cgi/article_b...</td>\n",
       "      <td>http://www.ejustice.just.fgov.be/cgi/article_b...</td>\n",
       "      <td>FEDERALE OVERHEIDSDIENST WERKGELEGENHEID, ARBE...</td>\n",
       "      <td>SERVICE PUBLIC FEDERAL EMPLOI, TRAVAIL ET CONC...</td>\n",
       "    </tr>\n",
       "    <tr>\n",
       "      <th>782</th>\n",
       "      <td>05/04/2022</td>\n",
       "      <td>GOUVERNEMENTS DE COMMUNAUTE ET DE REGION\\nCOMM...</td>\n",
       "      <td>2.022032e+09</td>\n",
       "      <td>http://www.ejustice.just.fgov.be/cgi/article_b...</td>\n",
       "      <td>http://www.ejustice.just.fgov.be/cgi/article_b...</td>\n",
       "      <td>VLAAMSE OVERHEID 11 FEBRUARI 2022. - Besluit v...</td>\n",
       "      <td>AUTORITE FLAMANDE 11 FEVRIER 2022. - Arrêté du...</td>\n",
       "    </tr>\n",
       "  </tbody>\n",
       "</table>\n",
       "</div>"
      ],
      "text/plain": [
       "           Date                                              Title  \\\n",
       "778  04/04/2022  SERVICE PUBLIC FEDERAL FINANCES\\n29 MARS 2021....   \n",
       "779  04/04/2022  SERVICE PUBLIC FEDERAL SECURITE SOCIALE\\n23 MA...   \n",
       "780  04/04/2022  SERVICE PUBLIC FEDERAL FINANCES\\n23 FEVRIER 20...   \n",
       "781  04/04/2022  SERVICE PUBLIC FEDERAL EMPLOI, TRAVAIL ET CONC...   \n",
       "782  05/04/2022  GOUVERNEMENTS DE COMMUNAUTE ET DE REGION\\nCOMM...   \n",
       "\n",
       "            Numac                                            Link FR  \\\n",
       "778  2.022021e+09  http://www.ejustice.just.fgov.be/cgi/article_b...   \n",
       "779  2.022031e+09  http://www.ejustice.just.fgov.be/cgi/article_b...   \n",
       "780  2.022040e+09  http://www.ejustice.just.fgov.be/cgi/article_b...   \n",
       "781  2.022202e+09  http://www.ejustice.just.fgov.be/cgi/article_b...   \n",
       "782  2.022032e+09  http://www.ejustice.just.fgov.be/cgi/article_b...   \n",
       "\n",
       "                                               Link NL  \\\n",
       "778  http://www.ejustice.just.fgov.be/cgi/article_b...   \n",
       "779  http://www.ejustice.just.fgov.be/cgi/article_b...   \n",
       "780  http://www.ejustice.just.fgov.be/cgi/article_b...   \n",
       "781  http://www.ejustice.just.fgov.be/cgi/article_b...   \n",
       "782  http://www.ejustice.just.fgov.be/cgi/article_b...   \n",
       "\n",
       "                                               nl_body  \\\n",
       "778  FEDERALE OVERHEIDSDIENST FINANCIEN  29 MAART 2...   \n",
       "779  FEDERALE OVERHEIDSDIENST SOCIALE ZEKERHEID   2...   \n",
       "780  FEDERALE OVERHEIDSDIENST FINANCIEN  23 FEBRUAR...   \n",
       "781  FEDERALE OVERHEIDSDIENST WERKGELEGENHEID, ARBE...   \n",
       "782  VLAAMSE OVERHEID 11 FEBRUARI 2022. - Besluit v...   \n",
       "\n",
       "                                               fr_body  \n",
       "778  SERVICE PUBLIC FEDERAL FINANCES  29 MARS 2021....  \n",
       "779  SERVICE PUBLIC FEDERAL SECURITE SOCIALE   23 M...  \n",
       "780  SERVICE PUBLIC FEDERAL FINANCES  23 FEVRIER 20...  \n",
       "781  SERVICE PUBLIC FEDERAL EMPLOI, TRAVAIL ET CONC...  \n",
       "782  AUTORITE FLAMANDE 11 FEVRIER 2022. - Arrêté du...  "
      ]
     },
     "execution_count": 17,
     "metadata": {},
     "output_type": "execute_result"
    }
   ],
   "source": [
    "df.tail()"
   ]
  },
  {
   "cell_type": "code",
   "execution_count": 18,
   "metadata": {},
   "outputs": [
    {
     "data": {
      "text/plain": [
       "'AUTORITE FLAMANDE  2 AVRIL 2021. - Arrêté du Gouvernement flamand modifiant les articles 3 et 4 de l\\'arrêté du Gouvernement flamand du 8 janvier 2021 portant exécution des articles 34/1, deuxième alinéa et 47/1 du décret du 21 novembre 2003 relatif à la politique de santé préventive et modifiant l\\'arrêté du Gouvernement flamand du 12 juin 2020 portant exécution du décret du 29 mai 2020 portant organisation de l\\'obligation de déclaration et du suivi des contacts dans le cadre du COVID-19 Fondement juridiqueLe présent arrêté est fondé sur :- le décret du 21 novembre 2003 relatif à la politique de santé préventive, l\\'article 47/1, § 2, troisième et cinquième alinéas, et § 3, troisième alinéa, insérés par le décret du 18 décembre 2020.FormalitésLes formalités suivantes sont remplies :- l\\'Inspection des Finances a donné un avis le 26 mars 2021.- l\\'avis du Conseil d\\'Etat n\\'a pas été demandé, en application de l\\'article 3, § 1er, des lois sur le Conseil d\\'Etat, coordonnées le 12 janvier 1973. Il y a urgence étant donné que le Comité de concertation a décidé le 10 mars 2021 que les entités fédérées s\\'engagent à transposer la liste des exceptions dans son ensemble dans leur réglementation respective de manière à ce que les exceptions entrent en vigueur au plus tard le 1er avril 2021.InitiateurLe présent arrêté est proposé par le ministre flamand du Bien-Etre, de la Santé publique, de la Famille et de la Lutte contre la Pauvreté.Après délibération,LE GOUVERNEMENT FLAMAND ARRETE :Article 1er. Dans l\\'article 3 de l\\'arrêté du Gouvernement flamand du 8 janvier 2021 portant exécution des articles 34/1, deuxième alinéa, et 47/1 du décret du 21 novembre 2003 relatif à la politique de santé préventive et modifiant l\\'arrêté du Gouvernement flamand du 12 juin 2020 portant exécution du décret du 29 mai 2020 portant organisation de l\\'obligation de déclaration et du suivi des contacts dans le cadre du COVID-19, les modifications suivantes sont apportées :1°  dans l\\'alinéa quatre, le membre de phrase « d\\'exercer une activité nécessaire, si cette activité ne peut être différée » est remplacé par le membre « de mener à bien les activités nécessaires suivantes qui ne peuvent être reportées au-delà du délai de l\\'isolement temporaire, et moyennant une attention particulière aux mesures d\\'hygiène, au maintien de la distance avec d\\'autres personnes et au port d\\'un masque buccal (chirurgical) : 1°  les déplacements relatifs aux soins médicaux urgents et l\\'accès aux médicaments ; 2°  les déplacements liés à l\\'achat de fournitures de base nécessaires, telles que des aliments, mais uniquement lorsque personne d\\'autre ne peut s\\'en charger, et à titre exceptionnel ; 3°  les déplacements effectués dans le cadre d\\'affaires juridiques ou financières urgentes et de l\\'autorité parentale, à condition qu\\'ils soient justifiés ; 4°  les déplacements dans le cadre des soins urgents et nécessaires aux animaux (domestiques), lorsque personne d\\'autre ne peut s\\'en charger ; 5°  les déplacements dans le cadre de funérailles » ;2°  après le quatrième alinéa, les alinéas cinq et six suivants sont ajoutés, rédigés comme suit :  « Par dérogation à l\\'alinéa deux, le délai de l\\'isolement temporaire visé à l\\'article 47/1, § 2, alinéa premier, est temporairement abrogé pour : 1°  les élèves, étudiants et stagiaires, dans le cadre d\\'un examen ou d\\'une tâche obligatoire ; 2°  les professionnels de la santé, les chercheurs dans le domaine de la santé et les professionnels des soins aux personnes âgées. Cette exception ne peut être invoquée que par le personnel nécessaire pour garantir un minimum de soins de base. Pour le personnel hospitalier, la décision est prise en concertation avec la direction de l\\'hôpital et le service d\\'hygiène de l\\'hôpital. Pour le personnel soignant dans les soins de santé primaire, comme les médecins généralistes, la décision est prise en concertation avec le poste de garde ; 3°  les membres de la communauté diplomatique et consulaire, les titulaires d\\'une fonction, les élus et représentants officiels des organisations et institutions internationales établies en Belgique, dans le cadre d\\'une activité essentielle qui ne peut être exercée à distance, ni par vidéoconférence ; 4°  les chefs d\\'état et de gouvernement, les membres du gouvernement, les parlementaires et hauts fonctionnaires, le personnel diplomatique, consulaire et technique en mission professionnelle, dans le cadre d\\'une activité essentielle qui ne peut être exercée à distance, ni par vidéoconférence ; 5°  le personnel d\\'une organisation internationale ou les personnes invitées par une telle organisation dont la présence physique est requise pour le bon fonctionnement de cette organisation, y compris les inspecteurs d\\'installations nucléaires ;  6°  les travailleurs saisonniers ; 7°  le personnel des services policiers, des services de migration et services douaniers ;  8°  les personnes voyageant pour des raisons familiales impérieuses (maladie grave avec hospitalisation, phase préterminale, décès) dans la mesure nécessaire à l\\'exercice de ces raisons familiales ; 9°  les personnes hautement qualifiées, lorsque leur travail est nécessaire d\\'un point de vue économique et ne peut être reporté (le cas échéant, déterminé par l\\'employeur en accord avec le médecin du travail, ce dernier devant être informé des risques potentiels sur le lieu de travail). Sont également inclus les sportifs professionnels, les professionnels du secteur culturel et les chercheurs scientifiques qui se déplacent lors de l\\'exercice de leur activité professionnelle ; 10°  les journalistes lors de l\\'exercice de leurs tâches ;  11°  les passagers en transit qui séjournent moins de 48 heures en Belgique ; 12°  les patients voyageant pour des raisons médicales impérieuses ou la poursuite d\\'un traitement médical urgent ; 13°  les personnes voyageant pour fournir de l\\'aide ou des soins à une personne âgée, mineure, handicapée ou vulnérable.Les personnes visées au présent alinéa doivent remplir les conditions suivantes :1°  de manière générale, elles ne présentent aucun symptôme ;2°  elles ne sont pas des contacts à haut risque chez une personne chez qui le diagnostic d\\'infection par le COVID-19 a été confirmé et qui habite sous le même toit ;3°  elles n\\'ont pas été testés positivement pour le COVID-19 ;4°  elles limitent les contacts avec le public au strict minimum ;5°  lorsque cela est possible, elles n\\'utilisent pas les transports en commun ;6°  elles sont incapables de télétravailler ;7°  elles respectent les règles de distance et portent toujours le masque buccal (chirurgical) de manière appropriée sur le lieu de travail ;8°  elles limitent le contact avec d\\'autres collaborateurs : dans la pratique, cela signifie autant que possible des entrées et des sorties séparées, des vestiaires séparés et des espaces de pause et de repos séparés.Par dérogation aux alinéas deux et trois, le délai de l\\'isolement temporaire visé à l\\'article 47/1, § 2, alinéa premier, et § 3, est temporairement abrogé pour :1°  (moyennant une attestation de l\\'employeur pour autant que de besoin) très exceptionnellement, des personnes asymptomatiques qui exercent une fonction ou une mission essentielle et qui : a) sont des professionnels de santé ou des professionnels qui fournissent de l\\'aide et des soins aux personnes vulnérables ; b) à condition que l\\'exercice de leur fonction soit indispensable pour garantir un minimum de soins de base ; c) aux conditions suivantes :  1) porter un masque buccal (chirurgical) ; 2) respecter les consignes d\\'hygiène ;  3) contrôler activement la température corporelle et les symptômes COVID-19 ; 4) garder une distance d\\'au moins 1,5 mètres du personnel ;  5) limiter les contacts sociaux en dehors du travail ;  6) ne pas utiliser les transports publics ;  7) respecter l\\'interdiction de voyager ; 2°  (sous réserve d\\'une attestation de l\\'employeur, le cas échéant) Les travailleurs qui, par la nature de leur fonction dans les laboratoires, sont en contact avec le virus qui provoque le COVID-19 ;3°  les personnes occupées dans un secteur essentiel au sens de l\\'annexe 1re de l\\'arrêté ministériel du 28 octobre 2020 portant des mesures urgentes pour limiter la propagation du coronavirus, lorsque leur travail répond aux critères cumulatifs suivants : a) demande urgente (déterminée par l\\'employeur en concertation avec le médecin du travail - étant donné que ce dernier doit être informé des risques possibles sur le lieu de travail) ; b) situation nécessaire (déterminée par l\\'employeur en concertation avec le médecin du travail - étant donné que ce dernier doit être informé des risques possibles sur le lieu de travail) ; c) fonction indispensable et irremplaçable décrite dans le plan de continuité de l\\'exploitation. Les travailleurs des entreprises qui ne disposent pas d\\'un Business ContinuityPlan ne pourront jamais bénéficier de cette exception de quarantaine ; d) la continuité des services essentiels de l\\'exploitation est menacée à court terme (durée de la quarantaine) ; e) toutes les solutions alternatives ont été envisagées et sont insuffisantes.L\\'employeur transmet au Comité pour la Prévention et la Protection au Travail et au médecin du travail une liste des personnes dont il est question. Après approbation du Comité pour la Prévention et la Protection au Travail de l\\'exploitation, l\\'exception à la quarantaine est attestée et une liste nominative des personnes concernées est tenue sur une base journalière.Les personnes visées au présent alinéa remplissent les conditions suivantes :1°  de manière générale, elles ne présentent aucun symptôme ;2°  elles ne sont pas des contacts à haut risque chez une personne chez qui le diagnostic d\\'infection par le COVID-19 a été confirmé et qui habite sous le même toit ;3°  elles n\\'ont pas été testés positivement pour le COVID-19 ;4°  elles limitent les contacts avec le public au strict minimum ;5°  lorsque cela est possible, elles n\\'utilisent pas les transports en commun ;6°  elles sont incapables de télétravailler ;7°  elles respectent les règles de distance et portent toujours le masque buccal (chirurgical) de manière appropriée sur le lieu de travail ;8°  elles limitent le contact avec d\\'autres collaborateurs : dans la pratique, cela signifie autant que possible des entrées et des sorties séparées, des vestiaires séparés et des espaces de pause et de repos séparés.Art. 2. A l\\'article 4 du même arrêté, les modifications suivantes sont apportées :1°  l\\'alinéa 1er est complété par la phrase suivante : « L\\'isolement temporaire visé à l\\'article 47/1, § 2, premier alinéa, du décret du 21 novembre 2003 ou l\\'obligation de se présenter à un centre de test COVID-19, à un centre de triage ou à leur médecin traitant visée à l\\'article 47/1, § 2, deuxième alinéa, du même décret, ne s\\'applique pas aux personnes qui ont séjourné dans une zone à haut risque qui n\\'est pas l\\'Afrique du Sud, l\\'Amérique du Sud ou le Royaume-Uni pendant cette durée limitée ou aux personnes qui séjournent en Belgique pendant cette durée limitée, sauf après leur arrivée d\\'Afrique du Sud, d\\'Amérique du Sud ou du Royaume-Uni. » ;2°  l\\'alinéa 2 est complété par la phrase suivante : \"L\\'isolement temporaire visé à l\\'article 47/1, § 2, alinéa premier, du décret du 21 novembre 2003 ou l\\'obligation de se présenter auprès d\\'un centre de test COVID-19, d\\'un centre de triage ou de leur médecin traitant visé à l\\'article 47/1, § 2, alinéa deux, du même décret, ne s\\'applique pas aux personnes dont la possibilité de contamination est évaluée comme faible par leur comportement dans une zone à haut risque. » ;3°  l\\'alinéa 3, modifié par l\\'arrêté du Gouvernement flamand du 29 janvier 2021, est remplacé par ce qui suit : « Les raisons essentielles visées à l\\'article 47/1, § 2, quatrième alinéa, 3°,  du décret du 21 novembre 2003 précité pour lesquelles l\\'isolement temporaire visé à l\\'article 47/1, § 2, premier alinéa, du décret du 21 novembre 2003 n\\'est pas applicable, sont les suivantes, : 1°  les résidents frontaliers ou les travailleurs frontaliers qui voyagent dans cette qualité ;  2°  le personnel de transport chargé du transport des marchandises et les autres personnels de transport qui voyagent pour l\\'exercice de leur fonction ; 3°  les marins, l\\'équipage des remorqueurs, les pilotes et le personnel industriel occupé dans les parcs éoliens offshore ; 4°  les personnes voyageant dans le cadre d\\'une coparentalité transfrontalière ; 5°  les élèves, étudiants et stagiaires qui se déplacent à l\\'étranger chaque jour ou chaque semaine dans le cadre de leurs études ou d\\'un stage transfrontalier ; 6°  les écoliers transfrontaliers voyageant dans le cadre de l\\'enseignement obligatoire ou dans le cadre de l\\'enseignement supérieur et de l\\'éducation des adultes vers et depuis le lieu où ils ont accès à l\\'enseignement; 7°  les « Border Force Officers » du Royaume-Uni. » ; 4°  entre les alinéas trois et quatre il est inséré un alinéa ainsi rédigé : « Les raisons essentielles visées à l\\'article 47/1, § 2, quatrième alinéa, 3°,  du décret du 21 novembre 2003 précité pour lesquelles l\\'obligation de se présenter dans un centre de test COVID-19, un centre de triage ou leur médecin traitant, visées à l\\'article 47/1, § 2, deuxième alinéa du même décret, ne s\\'applique pas, sont les suivantes : 1°  les résidents frontaliers ou les travailleurs frontaliers qui voyagent dans cette qualité ; 2°  le personnel de transport chargé du transport des marchandises et les autres personnels de transport qui voyagent pour l\\'exercice de leur fonction ; 3°  les marins, l\\'équipage des remorqueurs, les pilotes et le personnel industriel occupé dans les parcs éoliens offshore ; 4°  les personnes voyageant dans le cadre d\\'une coparentalité transfrontalière ; 5°  les élèves, étudiants et stagiaires qui se déplacent à l\\'étranger chaque jour ou chaque semaine dans le cadre de leurs études ou d\\'un stage transfrontalier ; 6°  les écoliers transfrontaliers voyageant dans le cadre de l\\'enseignement obligatoire ou dans le cadre de l\\'enseignement supérieur et de l\\'éducation des adultes vers et depuis le lieu où ils ont accès à l\\'enseignement ; 7°  les « Border Force Officers » du Royaume-Uni. ».Art. 3. Le présent arrêté entre en vigueur le lendemain de sa publication au Moniteur belge.Art. 4.  Le ministre flamand compétent pour les soins de santé et les soins résidentiels est chargé de l\\'exécution du présent arrêté.Bruxelles, le 2 avril 2021.Le Ministre-Président du Gouvernement flamand,J. JAMBONLe Ministre flamand du Bien-Etre, de la Santé publique, de la Famille et de la Lutte contre la Pauvreté,W. BEKE    debut premier mot dernier motPublié le : 2021-04-22'"
      ]
     },
     "execution_count": 18,
     "metadata": {},
     "output_type": "execute_result"
    }
   ],
   "source": [
    "df['fr_body'][515]"
   ]
  },
  {
   "cell_type": "code",
   "execution_count": 19,
   "metadata": {},
   "outputs": [
    {
     "data": {
      "text/plain": [
       "300"
      ]
     },
     "execution_count": 19,
     "metadata": {},
     "output_type": "execute_result"
    }
   ],
   "source": [
    "text = \"\".join(df['fr_body'][0])[:300]\n",
    "len(text)"
   ]
  },
  {
   "cell_type": "code",
   "execution_count": 20,
   "metadata": {},
   "outputs": [
    {
     "data": {
      "text/plain": [
       "'BRUSSELS-CAPITAL REGION 8 JANUARY 2020. - Ministerial decree establishing the model forms referred to in Article 8, § 1, of the decree of the Government of the Brussels-Capital Region of 19 January 2017 establishing the terms of the preferential regime applicable to inheritance tax'"
      ]
     },
     "execution_count": 20,
     "metadata": {},
     "output_type": "execute_result"
    }
   ],
   "source": [
    "from deep_translator import GoogleTranslator\n",
    "\n",
    "to_translate = text\n",
    "translated = GoogleTranslator(source='auto', target='english').translate(to_translate)\n",
    "translated\n"
   ]
  },
  {
   "cell_type": "code",
   "execution_count": 21,
   "metadata": {},
   "outputs": [],
   "source": [
    "# from googletrans import Translator\n",
    "\n",
    "# text_ = df['fr_body'][515]\n",
    "# translator = Translator()\n",
    "# translated = translator.translate(text_, src='fr', dest='en')\n",
    "# translated"
   ]
  },
  {
   "cell_type": "code",
   "execution_count": null,
   "metadata": {},
   "outputs": [],
   "source": []
  }
 ],
 "metadata": {
  "interpreter": {
   "hash": "a4fce49c0aac6d8cd9ef9c667ea7397fe44c3a562664c7b3a4246e1160ee5b26"
  },
  "kernelspec": {
   "display_name": "Python 3.10.2 ('Kpmg_venv': venv)",
   "language": "python",
   "name": "python3"
  },
  "language_info": {
   "codemirror_mode": {
    "name": "ipython",
    "version": 3
   },
   "file_extension": ".py",
   "mimetype": "text/x-python",
   "name": "python",
   "nbconvert_exporter": "python",
   "pygments_lexer": "ipython3",
   "version": "3.10.2"
  },
  "orig_nbformat": 4
 },
 "nbformat": 4,
 "nbformat_minor": 2
}
