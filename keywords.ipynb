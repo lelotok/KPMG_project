{
 "cells": [
  {
   "cell_type": "code",
   "execution_count": null,
   "metadata": {},
   "outputs": [],
   "source": [
    "import spacy\n",
    "import pandas as pd\n"
   ]
  },
  {
   "cell_type": "code",
   "execution_count": null,
   "metadata": {},
   "outputs": [],
   "source": [
    "data=pd.read_csv('data06.csv',sep=\"|\")"
   ]
  },
  {
   "cell_type": "code",
   "execution_count": null,
   "metadata": {},
   "outputs": [],
   "source": [
    "data.head(3)"
   ]
  },
  {
   "cell_type": "code",
   "execution_count": null,
   "metadata": {},
   "outputs": [],
   "source": [
    "summ=data['nl_sum']\n",
    "summ=data['nl_body']"
   ]
  },
  {
   "cell_type": "code",
   "execution_count": null,
   "metadata": {},
   "outputs": [],
   "source": [
    "nlp = spacy.load(\"nl_core_news_lg\")"
   ]
  },
  {
   "cell_type": "code",
   "execution_count": null,
   "metadata": {},
   "outputs": [],
   "source": [
    "import string\n",
    "text=summ[715].lower()\n",
    "\n",
    "\n",
    "docarticle=nlp(text)"
   ]
  },
  {
   "cell_type": "code",
   "execution_count": null,
   "metadata": {},
   "outputs": [],
   "source": [
    "docarticle"
   ]
  },
  {
   "cell_type": "code",
   "execution_count": null,
   "metadata": {},
   "outputs": [],
   "source": [
    "text1='belasting'\n",
    "text2='btw'\n",
    "\n",
    "doc1=nlp(text1)\n",
    "doc2=nlp(text2)\n",
    "t=0\n",
    "for a in doc1:\n",
    "    print(a.similarity(doc2[0]))\n",
    "    "
   ]
  },
  {
   "cell_type": "code",
   "execution_count": null,
   "metadata": {},
   "outputs": [],
   "source": [
    "keywords = 'belasting bedrijfsvoorheffing aanslagjaar btw inkom'\n",
    "dockeywords=nlp(keywords)\n",
    "\n",
    "keys=[]\n",
    "for _a in dockeywords:\n",
    "    \n",
    "    for article in summ:\n",
    "        text=article.lower()\n",
    "\n",
    "\n",
    "        docarticle=nlp(text)\n",
    "    \n",
    "        for token in docarticle:\n",
    "            if _a.similarity(token)>0.75:\n",
    "                keys.append(token)\n",
    "            \n",
    "                #print(_a,token,_a.similarity(token))\n",
    "                \n",
    "        \n",
    "        "
   ]
  },
  {
   "cell_type": "code",
   "execution_count": null,
   "metadata": {},
   "outputs": [],
   "source": [
    "from collections import Counter\n",
    "items=[]\n",
    "for a in keys:\n",
    "    items.append(a.lower_)\n",
    "\n",
    "freq_word=Counter(items)\n",
    "freq_word.most_common(28)"
   ]
  },
  {
   "cell_type": "code",
   "execution_count": null,
   "metadata": {},
   "outputs": [],
   "source": [
    "itemsset=set(items)\n",
    "itemsset"
   ]
  },
  {
   "cell_type": "code",
   "execution_count": null,
   "metadata": {},
   "outputs": [],
   "source": [
    "import transformers\n",
    "undisputed_best_model = transformers.MBartForConditionalGeneration.from_pretrained(\n",
    "    \"ml6team/mbart-large-cc25-cnn-dailymail-nl-finetune\"\n",
    ")\n",
    "tokenizer = transformers.MBartTokenizer.from_pretrained(\"facebook/mbart-large-cc25\")\n",
    "summarization_pipeline = transformers.pipeline(\n",
    "    task=\"summarization\",\n",
    "    model=undisputed_best_model,\n",
    "    tokenizer=tokenizer,\n",
    ")\n",
    "summarization_pipeline.model.config.decoder_start_token_id = tokenizer.lang_code_to_id[\n",
    "    \"nl_XX\"\n",
    "]\n"
   ]
  },
  {
   "cell_type": "code",
   "execution_count": null,
   "metadata": {},
   "outputs": [],
   "source": [
    "all_keys=['belasting','inkomstenbelastingen','belastingvermindering','belastingplichtige','belastingplichtigen','belastingdiensten','belastingheffing','inkomstenbelasting','belastingen','verkeersbelasting','personenbelasting','belastingadministratie','belastingwetgeving','heffing','belastingjaren','vennootschapsbelasting','rechtspersonenbelasting','belastingschuldigen','belastingverhoging','belastingregeling','heffingen','belastingschuldige','belasten','belastinggrondslag','belastingstelsel','overbelasting','belastingverdragen','voorheffingen','belastingmaatregel','belastinggebied','belastingautoriteiten','belastingverhogingen','kapitaalvermindering','kostenvermindering','verminderingen','zekerheidsbijdragen','belastingontwijking','belastingvoordeel','belastingvrijstelling','belastingschuld','belastingverminderingen','belastingkrediet','belastingvoet','belastingtarief','erfbelasting','schenkbelasting','belastingtarieven','belastingtijdvak','belastingvrije','belastende','voorbelasting','omzetbelasting','waardevermindering','belastingplannen','belastingopbrengsten','belastingvorderingen','bedrijfsvoorheffing','vervangingsinkomsten','voorheffing','werkingskosten','bezoldigingsregeling','beroepsinkomsten','verzekeringsondernemingen','verzekeringsinstellingen','vrijstellingsregeling','invaliditeitsverzekering','financieringsregelingen','registratierechten','bezoldigingen','beroepskosten','werkgeversbijdragen','bedrijfskosten','arbeidsongeschiktheidsuitkeringen','invaliditeitsuitkeringen','verzekeringsinstelling','belastingdienst','dienstverplichtingen','verzekeringsonderneming','verzekeringstegemoetkoming','derdebetalersregeling','inkomstenderving','bedrijfstoeslag','voorafbetalingen','werkgeversbijdrage','verzekeringspremies','socialezekerheidsbijdragen','uitbetalingsinstelling','financieringskosten','netto-inkomsten','btw-administratie','investeringsaftrek','inkomsten-','prestatievergoeding','verzekeringspremie','btw-regeling','bedrijfsinkomsten','kapitaalaflossingen','solidariteitsbijdrage','aanslagjaar','inkomstenjaar','belastingjaar','aanslagjaren','heffingsjaar','btw'\n",
    "]\n",
    "\n",
    "all_keys=\"belasting inkomstenbelastingen belastingvermindering belastingplichtige belastingplichtigen belastingdiensten belastingheffing inkomstenbelasting belastingen verkeersbelasting personenbelasting belastingadministratie belastingwetgeving heffing belastingjaren vennootschapsbelasting rechtspersonenbelasting belastingschuldigen belastingverhoging belastingregeling heffingen belastingschuldige belasten belastinggrondslag belastingstelsel overbelasting belastingverdragen voorheffingen belastingmaatregel belastinggebied belastingautoriteiten belastingverhogingen kapitaalvermindering kostenvermindering verminderingen zekerheidsbijdragen belastingontwijking belastingvoordeel belastingvrijstelling belastingschuld belastingverminderingen belastingkrediet belastingvoet belastingtarief erfbelasting schenkbelasting belastingtarieven belastingtijdvak belastingvrije belastende voorbelasting omzetbelasting waardevermindering belastingplannen belastingopbrengsten belastingvorderingen bedrijfsvoorheffing vervangingsinkomsten voorheffing werkingskosten bezoldigingsregeling beroepsinkomsten verzekeringsondernemingen verzekeringsinstellingen vrijstellingsregeling invaliditeitsverzekering financieringsregelingen registratierechten bezoldigingen beroepskosten werkgeversbijdragen bedrijfskosten arbeidsongeschiktheidsuitkeringen invaliditeitsuitkeringen verzekeringsinstelling belastingdienst dienstverplichtingen verzekeringsonderneming verzekeringstegemoetkoming derdebetalersregeling inkomstenderving bedrijfstoeslag voorafbetalingen werkgeversbijdrage verzekeringspremies socialezekerheidsbijdragen uitbetalingsinstelling financieringskosten netto-inkomsten btw-administratie investeringsaftrek inkomsten- prestatievergoeding verzekeringspremie btw-regeling bedrijfsinkomsten kapitaalaflossingen solidariteitsbijdrage aanslagjaar inkomstenjaar belastingjaar aanslagjaren heffingsjaar btw\"\n",
    "\n",
    "docx=nlp(all_keys)\n",
    "\n"
   ]
  },
  {
   "cell_type": "code",
   "execution_count": null,
   "metadata": {},
   "outputs": [],
   "source": [
    "docx=tokenizer.tokenize(all_keys)\n"
   ]
  },
  {
   "cell_type": "code",
   "execution_count": null,
   "metadata": {},
   "outputs": [],
   "source": [
    "docx"
   ]
  },
  {
   "cell_type": "code",
   "execution_count": null,
   "metadata": {},
   "outputs": [],
   "source": [
    "lemmalist=[]\n",
    "for a in itemsset:\n",
    "    print(a, a.lemma_)\n",
    "    lemmalist.append(a.lemma_)\n",
    "\n",
    "lemmalist=set(lemmalist)\n",
    "lemmalist\n"
   ]
  },
  {
   "cell_type": "code",
   "execution_count": null,
   "metadata": {},
   "outputs": [],
   "source": [
    "\n",
    "\n",
    "\n",
    "# for a in keyw:\n",
    "#     doct=nlp(a)\n",
    "#     for x1 in doc:\n",
    "#         for token in doct:\n",
    "        \n",
    "           \n",
    "#             q=token.similarity(x1)\n",
    "#             if q>0.75:\n",
    "\n",
    "#                 print(a)\n",
    "#             # if token.similarity>0.5:\n",
    "#             #     print (a,x,token.similarity(x))\n",
    "                \n",
    "\n"
   ]
  },
  {
   "cell_type": "code",
   "execution_count": null,
   "metadata": {},
   "outputs": [],
   "source": []
  }
 ],
 "metadata": {
  "interpreter": {
   "hash": "78048d5901510aba3f63ef87ca1b57ab9d805b11f89c30917e9241a8225bb540"
  },
  "kernelspec": {
   "display_name": "Python 3.10.2 ('venvkpmg': venv)",
   "language": "python",
   "name": "python3"
  },
  "language_info": {
   "codemirror_mode": {
    "name": "ipython",
    "version": 3
   },
   "file_extension": ".py",
   "mimetype": "text/x-python",
   "name": "python",
   "nbconvert_exporter": "python",
   "pygments_lexer": "ipython3",
   "version": "3.10.2"
  },
  "orig_nbformat": 4
 },
 "nbformat": 4,
 "nbformat_minor": 2
}
