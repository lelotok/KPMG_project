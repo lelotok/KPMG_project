{
 "cells": [
  {
   "cell_type": "code",
   "execution_count": null,
   "metadata": {},
   "outputs": [],
   "source": [
    "import spacy\n",
    "import pandas as pd\n"
   ]
  },
  {
   "cell_type": "code",
   "execution_count": null,
   "metadata": {},
   "outputs": [],
   "source": [
    "data=pd.read_csv('data06.csv',sep=\"|\")"
   ]
  },
  {
   "cell_type": "code",
   "execution_count": null,
   "metadata": {},
   "outputs": [],
   "source": [
    "data.head(3)"
   ]
  },
  {
   "cell_type": "code",
   "execution_count": null,
   "metadata": {},
   "outputs": [],
   "source": [
    "summ=data['nl_sum']"
   ]
  },
  {
   "cell_type": "code",
   "execution_count": null,
   "metadata": {},
   "outputs": [],
   "source": [
    "nlp = spacy.load(\"nl_core_news_lg\")"
   ]
  },
  {
   "cell_type": "code",
   "execution_count": null,
   "metadata": {},
   "outputs": [],
   "source": [
    "import string\n",
    "text=summ[715].lower()\n",
    "\n",
    "\n",
    "docarticle=nlp(text)"
   ]
  },
  {
   "cell_type": "code",
   "execution_count": null,
   "metadata": {},
   "outputs": [],
   "source": [
    "docarticle"
   ]
  },
  {
   "cell_type": "code",
   "execution_count": null,
   "metadata": {},
   "outputs": [],
   "source": [
    "keywords = 'belasting financiën'\n",
    "dockeywords=nlp(keywords)\n",
    "\n",
    "keys=[]\n",
    "for _a in dockeywords:\n",
    "    \n",
    "    for article in summ:\n",
    "        text=article.lower()\n",
    "\n",
    "\n",
    "        docarticle=nlp(text)\n",
    "    \n",
    "        for token in docarticle:\n",
    "            if _a.similarity(token)>0.7:\n",
    "                keys.append(token)\n",
    "            \n",
    "                #print(_a,token,_a.similarity(token))\n",
    "                \n",
    "        \n",
    "        "
   ]
  },
  {
   "cell_type": "code",
   "execution_count": 99,
   "metadata": {},
   "outputs": [
    {
     "data": {
      "text/plain": [
       "spacy.tokens.token.Token"
      ]
     },
     "execution_count": 99,
     "metadata": {},
     "output_type": "execute_result"
    }
   ],
   "source": []
  },
  {
   "cell_type": "code",
   "execution_count": 102,
   "metadata": {},
   "outputs": [
    {
     "data": {
      "text/plain": [
       "Counter({'belast': 14,\n",
       "         'belasting': 52,\n",
       "         'belastingvermindering': 12,\n",
       "         'inkomstenbelastingen': 31,\n",
       "         'vrijstelling': 7,\n",
       "         'bedrijfsvoorheffing': 9,\n",
       "         'voorheffing': 5,\n",
       "         'belastingconsulenten': 1,\n",
       "         'rekeningen': 4,\n",
       "         'belastingheffing': 1,\n",
       "         'belastingen': 12,\n",
       "         'verkeersbelasting': 6,\n",
       "         'personenbelasting': 5,\n",
       "         'heffing': 2,\n",
       "         'vergoedingen': 5,\n",
       "         'belastingplichtigen': 7,\n",
       "         'uitkeringen': 19,\n",
       "         'belastingbetalers': 1,\n",
       "         'voorheffingen': 1,\n",
       "         'vergoedingsregeling': 2,\n",
       "         'belastingmaatregel': 1,\n",
       "         'werkingskosten': 1,\n",
       "         'vennootschapsbelasting': 5,\n",
       "         'belastinggebied': 3,\n",
       "         'rechtspersonenbelasting': 2,\n",
       "         'arbeidsongeschiktheidsuitkeringen': 1,\n",
       "         'belastingplichtige': 5,\n",
       "         'belastingwet': 2,\n",
       "         'zekerheidsbijdragen': 2,\n",
       "         'belastingjaar': 1,\n",
       "         'compensatieregeling': 1,\n",
       "         'belastingvrijstelling': 2,\n",
       "         'belastbaar': 3,\n",
       "         'belastingwetgeving': 1,\n",
       "         'belastingverdragen': 1,\n",
       "         'compensatie': 1,\n",
       "         'vervangingsinkomsten': 1,\n",
       "         'vermindering': 1,\n",
       "         'belastingregels': 1,\n",
       "         'belastbare': 4,\n",
       "         'belastingdiensten': 1,\n",
       "         'financiën': 105,\n",
       "         'financiële': 23,\n",
       "         'financiering': 5,\n",
       "         'administratie': 15,\n",
       "         'financieel': 6,\n",
       "         'personeelsbeheer': 1})"
      ]
     },
     "execution_count": 102,
     "metadata": {},
     "output_type": "execute_result"
    }
   ],
   "source": [
    "from collections import Counter\n",
    "items=[]\n",
    "for a in keys:\n",
    "    items.append(a.lower_)\n",
    "\n",
    "freq_word=Counter(items)\n",
    "freq_word"
   ]
  },
  {
   "cell_type": "code",
   "execution_count": null,
   "metadata": {},
   "outputs": [],
   "source": []
  },
  {
   "cell_type": "code",
   "execution_count": null,
   "metadata": {},
   "outputs": [],
   "source": [
    "\n",
    "\n"
   ]
  },
  {
   "cell_type": "code",
   "execution_count": null,
   "metadata": {},
   "outputs": [],
   "source": [
    "\n",
    "\n",
    "\n",
    "for a in keyw:\n",
    "    doct=nlp(a)\n",
    "    for x1 in doc:\n",
    "        for token in doct:\n",
    "        \n",
    "           \n",
    "            q=token.similarity(x1)\n",
    "            if q>0.75:\n",
    "\n",
    "                print(a)\n",
    "            # if token.similarity>0.5:\n",
    "            #     print (a,x,token.similarity(x))\n",
    "                \n",
    "\n"
   ]
  },
  {
   "cell_type": "code",
   "execution_count": null,
   "metadata": {},
   "outputs": [],
   "source": []
  }
 ],
 "metadata": {
  "interpreter": {
   "hash": "78048d5901510aba3f63ef87ca1b57ab9d805b11f89c30917e9241a8225bb540"
  },
  "kernelspec": {
   "display_name": "Python 3.10.2 ('venvkpmg': venv)",
   "language": "python",
   "name": "python3"
  },
  "language_info": {
   "codemirror_mode": {
    "name": "ipython",
    "version": 3
   },
   "file_extension": ".py",
   "mimetype": "text/x-python",
   "name": "python",
   "nbconvert_exporter": "python",
   "pygments_lexer": "ipython3",
   "version": "3.10.2"
  },
  "orig_nbformat": 4
 },
 "nbformat": 4,
 "nbformat_minor": 2
}
