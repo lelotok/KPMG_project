{
 "cells": [
  {
   "cell_type": "code",
   "execution_count": null,
   "metadata": {},
   "outputs": [],
   "source": [
    "import sqlite3\n",
    "import pandas as pd\n"
   ]
  },
  {
   "cell_type": "code",
   "execution_count": null,
   "metadata": {},
   "outputs": [],
   "source": [
    "con = sqlite3.connect(\"data.sqlite\")"
   ]
  },
  {
   "cell_type": "code",
   "execution_count": null,
   "metadata": {},
   "outputs": [],
   "source": [
    "df=pd.read_csv(\"../data_03.csv\",sep=\"|\")"
   ]
  },
  {
   "cell_type": "code",
   "execution_count": 6,
   "metadata": {},
   "outputs": [
    {
     "data": {
      "text/html": [
       "<div>\n",
       "<style scoped>\n",
       "    .dataframe tbody tr th:only-of-type {\n",
       "        vertical-align: middle;\n",
       "    }\n",
       "\n",
       "    .dataframe tbody tr th {\n",
       "        vertical-align: top;\n",
       "    }\n",
       "\n",
       "    .dataframe thead th {\n",
       "        text-align: right;\n",
       "    }\n",
       "</style>\n",
       "<table border=\"1\" class=\"dataframe\">\n",
       "  <thead>\n",
       "    <tr style=\"text-align: right;\">\n",
       "      <th></th>\n",
       "      <th>Date</th>\n",
       "      <th>Title</th>\n",
       "      <th>Numac</th>\n",
       "      <th>Link FR</th>\n",
       "      <th>Link NL</th>\n",
       "      <th>nl_body</th>\n",
       "      <th>fr_body</th>\n",
       "      <th>nl_sum</th>\n",
       "      <th>nltags</th>\n",
       "    </tr>\n",
       "  </thead>\n",
       "  <tbody>\n",
       "    <tr>\n",
       "      <th>0</th>\n",
       "      <td>14/01/2020</td>\n",
       "      <td>REGION DE BRUXELLES-CAPITALE\\nREGION DE BRUXEL...</td>\n",
       "      <td>2.020010e+09</td>\n",
       "      <td>http://www.ejustice.just.fgov.be/cgi/article_b...</td>\n",
       "      <td>http://www.ejustice.just.fgov.be/cgi/article_b...</td>\n",
       "      <td>BRUSSELS HOOFDSTEDELIJK GEWEST 8 JANUARI 2020....</td>\n",
       "      <td>REGION DE BRUXELLES-CAPITALE 8 JANVIER 2020. -...</td>\n",
       "      <td>Demissionair minister van de Brusselse Hoofdst...</td>\n",
       "      <td>{dienstverplichtingen: 0.8126788139343262, bed...</td>\n",
       "    </tr>\n",
       "    <tr>\n",
       "      <th>1</th>\n",
       "      <td>16/01/2020</td>\n",
       "      <td>SERVICE PUBLIC FEDERAL INTERIEUR\\n10 DECEMBRE ...</td>\n",
       "      <td>2.020010e+09</td>\n",
       "      <td>http://www.ejustice.just.fgov.be/cgi/article_b...</td>\n",
       "      <td>http://www.ejustice.just.fgov.be/cgi/article_b...</td>\n",
       "      <td>FEDERALE OVERHEIDSDIENST BINNENLANDSE ZAKEN 10...</td>\n",
       "      <td>SERVICE PUBLIC FEDERAL INTERIEUR 10 DECEMBRE 2...</td>\n",
       "      <td>De hierna volgende tekst is de Duitse vertalin...</td>\n",
       "      <td>{belasting: 1.0, belastingverhoging: 0.8463752...</td>\n",
       "    </tr>\n",
       "    <tr>\n",
       "      <th>2</th>\n",
       "      <td>16/01/2020</td>\n",
       "      <td>SERVICE PUBLIC FEDERAL FINANCES\\n7 DECEMBRE 20...</td>\n",
       "      <td>2.020040e+09</td>\n",
       "      <td>http://www.ejustice.just.fgov.be/cgi/article_b...</td>\n",
       "      <td>http://www.ejustice.just.fgov.be/cgi/article_b...</td>\n",
       "      <td>FEDERALE OVERHEIDSDIENST FINANCIEN 7 DECEMBER ...</td>\n",
       "      <td>SERVICE PUBLIC FEDERAL FINANCES 7 DECEMBRE 201...</td>\n",
       "      <td>Het Koninklijk Huis van Utrecht heeft een wijz...</td>\n",
       "      <td>{}</td>\n",
       "    </tr>\n",
       "  </tbody>\n",
       "</table>\n",
       "</div>"
      ],
      "text/plain": [
       "         Date                                              Title  \\\n",
       "0  14/01/2020  REGION DE BRUXELLES-CAPITALE\\nREGION DE BRUXEL...   \n",
       "1  16/01/2020  SERVICE PUBLIC FEDERAL INTERIEUR\\n10 DECEMBRE ...   \n",
       "2  16/01/2020  SERVICE PUBLIC FEDERAL FINANCES\\n7 DECEMBRE 20...   \n",
       "\n",
       "          Numac                                            Link FR  \\\n",
       "0  2.020010e+09  http://www.ejustice.just.fgov.be/cgi/article_b...   \n",
       "1  2.020010e+09  http://www.ejustice.just.fgov.be/cgi/article_b...   \n",
       "2  2.020040e+09  http://www.ejustice.just.fgov.be/cgi/article_b...   \n",
       "\n",
       "                                             Link NL  \\\n",
       "0  http://www.ejustice.just.fgov.be/cgi/article_b...   \n",
       "1  http://www.ejustice.just.fgov.be/cgi/article_b...   \n",
       "2  http://www.ejustice.just.fgov.be/cgi/article_b...   \n",
       "\n",
       "                                             nl_body  \\\n",
       "0  BRUSSELS HOOFDSTEDELIJK GEWEST 8 JANUARI 2020....   \n",
       "1  FEDERALE OVERHEIDSDIENST BINNENLANDSE ZAKEN 10...   \n",
       "2  FEDERALE OVERHEIDSDIENST FINANCIEN 7 DECEMBER ...   \n",
       "\n",
       "                                             fr_body  \\\n",
       "0  REGION DE BRUXELLES-CAPITALE 8 JANVIER 2020. -...   \n",
       "1  SERVICE PUBLIC FEDERAL INTERIEUR 10 DECEMBRE 2...   \n",
       "2  SERVICE PUBLIC FEDERAL FINANCES 7 DECEMBRE 201...   \n",
       "\n",
       "                                              nl_sum  \\\n",
       "0  Demissionair minister van de Brusselse Hoofdst...   \n",
       "1  De hierna volgende tekst is de Duitse vertalin...   \n",
       "2  Het Koninklijk Huis van Utrecht heeft een wijz...   \n",
       "\n",
       "                                              nltags  \n",
       "0  {dienstverplichtingen: 0.8126788139343262, bed...  \n",
       "1  {belasting: 1.0, belastingverhoging: 0.8463752...  \n",
       "2                                                 {}  "
      ]
     },
     "execution_count": 6,
     "metadata": {},
     "output_type": "execute_result"
    }
   ],
   "source": [
    "df.head(3)"
   ]
  },
  {
   "cell_type": "code",
   "execution_count": null,
   "metadata": {},
   "outputs": [],
   "source": [
    "df.to_sql(\"data\",con=con,if_exists=\"replace\",index=False)\n",
    "con.close()"
   ]
  },
  {
   "cell_type": "code",
   "execution_count": null,
   "metadata": {},
   "outputs": [],
   "source": [
    "df = pd.read_sql_query(\"SELECT * from data\", con)\n",
    "con.close()"
   ]
  },
  {
   "cell_type": "code",
   "execution_count": null,
   "metadata": {},
   "outputs": [],
   "source": [
    "df.columns\n",
    "    "
   ]
  },
  {
   "cell_type": "code",
   "execution_count": 10,
   "metadata": {},
   "outputs": [
    {
     "name": "stderr",
     "output_type": "stream",
     "text": [
      "C:\\Users\\bakig\\AppData\\Local\\Temp\\ipykernel_4196\\2286718906.py:1: SettingWithCopyWarning: \n",
      "A value is trying to be set on a copy of a slice from a DataFrame\n",
      "\n",
      "See the caveats in the documentation: https://pandas.pydata.org/pandas-docs/stable/user_guide/indexing.html#returning-a-view-versus-a-copy\n",
      "  df.rename(columns = {'Date':'date', 'Numac':'numac','Link NL':'link','nl_body':'nl_text','nltags':'nl_tags'}, inplace = True)\n"
     ]
    }
   ],
   "source": [
    "df.rename(columns = {'Date':'date', 'Numac':'numac','Link NL':'link','nl_body':'nl_text','nltags':'nl_tags'}, inplace = True)\n"
   ]
  },
  {
   "cell_type": "code",
   "execution_count": null,
   "metadata": {},
   "outputs": [],
   "source": [
    "df.drop(['Title','Link FR','fr_body'],axis=1,inplace=True)"
   ]
  },
  {
   "cell_type": "code",
   "execution_count": null,
   "metadata": {},
   "outputs": [],
   "source": [
    "con2=sqlite3.connect(\"./btax/db.sqlite3\")\n"
   ]
  },
  {
   "cell_type": "code",
   "execution_count": null,
   "metadata": {},
   "outputs": [],
   "source": [
    "df.to_sql('taxtag_article',con=con2,if_exists=\"replace\")"
   ]
  },
  {
   "cell_type": "code",
   "execution_count": null,
   "metadata": {},
   "outputs": [],
   "source": [
    "con2.close()"
   ]
  },
  {
   "cell_type": "code",
   "execution_count": 11,
   "metadata": {},
   "outputs": [],
   "source": [
    "df.to_csv('data_tagged.csv',index=False,encoding='utf-8-sig')"
   ]
  },
  {
   "cell_type": "code",
   "execution_count": null,
   "metadata": {},
   "outputs": [],
   "source": [
    "z=df[\"nl_body\"].to_list()\n",
    "z[0]"
   ]
  },
  {
   "cell_type": "code",
   "execution_count": null,
   "metadata": {},
   "outputs": [],
   "source": [
    "df[['NL ','nltags']].head(20)\n",
    "q=df['nltags'].to_list()\n",
    "q"
   ]
  },
  {
   "cell_type": "code",
   "execution_count": 7,
   "metadata": {},
   "outputs": [],
   "source": [
    "#Delete German text\n",
    "to_delete='De hierna volgende tekst is de Duitse vertaling'\n",
    "#df.drop(df[df['nl_body'] < 50].index, inplace=True)\n",
    "\n",
    "df=df[df[\"nl_body\"].str.contains(to_delete)==False]\n",
    "\n"
   ]
  },
  {
   "cell_type": "code",
   "execution_count": 8,
   "metadata": {},
   "outputs": [
    {
     "data": {
      "text/plain": [
       "(678, 9)"
      ]
     },
     "execution_count": 8,
     "metadata": {},
     "output_type": "execute_result"
    }
   ],
   "source": [
    "df.shape"
   ]
  },
  {
   "cell_type": "code",
   "execution_count": 9,
   "metadata": {},
   "outputs": [
    {
     "data": {
      "text/html": [
       "<div>\n",
       "<style scoped>\n",
       "    .dataframe tbody tr th:only-of-type {\n",
       "        vertical-align: middle;\n",
       "    }\n",
       "\n",
       "    .dataframe tbody tr th {\n",
       "        vertical-align: top;\n",
       "    }\n",
       "\n",
       "    .dataframe thead th {\n",
       "        text-align: right;\n",
       "    }\n",
       "</style>\n",
       "<table border=\"1\" class=\"dataframe\">\n",
       "  <thead>\n",
       "    <tr style=\"text-align: right;\">\n",
       "      <th></th>\n",
       "      <th>Date</th>\n",
       "      <th>Title</th>\n",
       "      <th>Numac</th>\n",
       "      <th>Link FR</th>\n",
       "      <th>Link NL</th>\n",
       "      <th>nl_body</th>\n",
       "      <th>fr_body</th>\n",
       "      <th>nl_sum</th>\n",
       "      <th>nltags</th>\n",
       "    </tr>\n",
       "  </thead>\n",
       "  <tbody>\n",
       "    <tr>\n",
       "      <th>0</th>\n",
       "      <td>14/01/2020</td>\n",
       "      <td>REGION DE BRUXELLES-CAPITALE\\nREGION DE BRUXEL...</td>\n",
       "      <td>2.020010e+09</td>\n",
       "      <td>http://www.ejustice.just.fgov.be/cgi/article_b...</td>\n",
       "      <td>http://www.ejustice.just.fgov.be/cgi/article_b...</td>\n",
       "      <td>BRUSSELS HOOFDSTEDELIJK GEWEST 8 JANUARI 2020....</td>\n",
       "      <td>REGION DE BRUXELLES-CAPITALE 8 JANVIER 2020. -...</td>\n",
       "      <td>Demissionair minister van de Brusselse Hoofdst...</td>\n",
       "      <td>{dienstverplichtingen: 0.8126788139343262, bed...</td>\n",
       "    </tr>\n",
       "    <tr>\n",
       "      <th>3</th>\n",
       "      <td>24/01/2020</td>\n",
       "      <td>MINISTERE DE LA COMMUNAUTE FRANCAISE\\n20 DECEM...</td>\n",
       "      <td>2.020010e+09</td>\n",
       "      <td>http://www.ejustice.just.fgov.be/cgi/article_b...</td>\n",
       "      <td>http://www.ejustice.just.fgov.be/cgi/article_b...</td>\n",
       "      <td>MINISTERIE VAN DE FRANSE GEMEENSCHAP 20 DECEMB...</td>\n",
       "      <td>MINISTERE DE LA COMMUNAUTE FRANÇAISE 20 DECEMB...</td>\n",
       "      <td>De geleidelijke transformatie van de bestaande...</td>\n",
       "      <td>{}</td>\n",
       "    </tr>\n",
       "    <tr>\n",
       "      <th>4</th>\n",
       "      <td>28/01/2020</td>\n",
       "      <td>SERVICE PUBLIC FEDERAL FINANCES\\nAdministratio...</td>\n",
       "      <td>2.020010e+09</td>\n",
       "      <td>http://www.ejustice.just.fgov.be/cgi/article_b...</td>\n",
       "      <td>http://www.ejustice.just.fgov.be/cgi/article_b...</td>\n",
       "      <td>FEDERALE OVERHEIDSDIENST FINANCIEN  Algemene A...</td>\n",
       "      <td>SERVICE PUBLIC FEDERAL FINANCES  Administratio...</td>\n",
       "      <td>Het ministerie van Financiën heeft een nieuw m...</td>\n",
       "      <td>{bedrijfsvoorheffing: 0.8049665689468384, bela...</td>\n",
       "    </tr>\n",
       "  </tbody>\n",
       "</table>\n",
       "</div>"
      ],
      "text/plain": [
       "         Date                                              Title  \\\n",
       "0  14/01/2020  REGION DE BRUXELLES-CAPITALE\\nREGION DE BRUXEL...   \n",
       "3  24/01/2020  MINISTERE DE LA COMMUNAUTE FRANCAISE\\n20 DECEM...   \n",
       "4  28/01/2020  SERVICE PUBLIC FEDERAL FINANCES\\nAdministratio...   \n",
       "\n",
       "          Numac                                            Link FR  \\\n",
       "0  2.020010e+09  http://www.ejustice.just.fgov.be/cgi/article_b...   \n",
       "3  2.020010e+09  http://www.ejustice.just.fgov.be/cgi/article_b...   \n",
       "4  2.020010e+09  http://www.ejustice.just.fgov.be/cgi/article_b...   \n",
       "\n",
       "                                             Link NL  \\\n",
       "0  http://www.ejustice.just.fgov.be/cgi/article_b...   \n",
       "3  http://www.ejustice.just.fgov.be/cgi/article_b...   \n",
       "4  http://www.ejustice.just.fgov.be/cgi/article_b...   \n",
       "\n",
       "                                             nl_body  \\\n",
       "0  BRUSSELS HOOFDSTEDELIJK GEWEST 8 JANUARI 2020....   \n",
       "3  MINISTERIE VAN DE FRANSE GEMEENSCHAP 20 DECEMB...   \n",
       "4  FEDERALE OVERHEIDSDIENST FINANCIEN  Algemene A...   \n",
       "\n",
       "                                             fr_body  \\\n",
       "0  REGION DE BRUXELLES-CAPITALE 8 JANVIER 2020. -...   \n",
       "3  MINISTERE DE LA COMMUNAUTE FRANÇAISE 20 DECEMB...   \n",
       "4  SERVICE PUBLIC FEDERAL FINANCES  Administratio...   \n",
       "\n",
       "                                              nl_sum  \\\n",
       "0  Demissionair minister van de Brusselse Hoofdst...   \n",
       "3  De geleidelijke transformatie van de bestaande...   \n",
       "4  Het ministerie van Financiën heeft een nieuw m...   \n",
       "\n",
       "                                              nltags  \n",
       "0  {dienstverplichtingen: 0.8126788139343262, bed...  \n",
       "3                                                 {}  \n",
       "4  {bedrijfsvoorheffing: 0.8049665689468384, bela...  "
      ]
     },
     "execution_count": 9,
     "metadata": {},
     "output_type": "execute_result"
    }
   ],
   "source": [
    "\n",
    "df.head(3)"
   ]
  }
 ],
 "metadata": {
  "interpreter": {
   "hash": "78048d5901510aba3f63ef87ca1b57ab9d805b11f89c30917e9241a8225bb540"
  },
  "kernelspec": {
   "display_name": "Python 3.10.2 ('venvkpmg': venv)",
   "language": "python",
   "name": "python3"
  },
  "language_info": {
   "codemirror_mode": {
    "name": "ipython",
    "version": 3
   },
   "file_extension": ".py",
   "mimetype": "text/x-python",
   "name": "python",
   "nbconvert_exporter": "python",
   "pygments_lexer": "ipython3",
   "version": "3.10.2"
  },
  "orig_nbformat": 4
 },
 "nbformat": 4,
 "nbformat_minor": 2
}
