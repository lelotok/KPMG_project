{
 "cells": [
  {
   "cell_type": "markdown",
   "metadata": {},
   "source": [
    "### Finding keywords"
   ]
  },
  {
   "cell_type": "code",
   "execution_count": 4,
   "metadata": {},
   "outputs": [],
   "source": [
    "import spacy\n",
    "import pandas as pd\n",
    "KEYWORDS = 'belasting bedrijfsvoorheffing aanslagjaar btw inkom'"
   ]
  },
  {
   "cell_type": "code",
   "execution_count": 2,
   "metadata": {},
   "outputs": [],
   "source": [
    "nlp = spacy.load(\"nl_core_news_lg\")\n",
    "data=pd.read_csv('data_02.csv',sep=\"|\")"
   ]
  },
  {
   "cell_type": "code",
   "execution_count": 3,
   "metadata": {},
   "outputs": [
    {
     "data": {
      "text/html": [
       "<div>\n",
       "<style scoped>\n",
       "    .dataframe tbody tr th:only-of-type {\n",
       "        vertical-align: middle;\n",
       "    }\n",
       "\n",
       "    .dataframe tbody tr th {\n",
       "        vertical-align: top;\n",
       "    }\n",
       "\n",
       "    .dataframe thead th {\n",
       "        text-align: right;\n",
       "    }\n",
       "</style>\n",
       "<table border=\"1\" class=\"dataframe\">\n",
       "  <thead>\n",
       "    <tr style=\"text-align: right;\">\n",
       "      <th></th>\n",
       "      <th>Date</th>\n",
       "      <th>Title</th>\n",
       "      <th>Numac</th>\n",
       "      <th>Link FR</th>\n",
       "      <th>Link NL</th>\n",
       "      <th>nl_body</th>\n",
       "    </tr>\n",
       "  </thead>\n",
       "  <tbody>\n",
       "    <tr>\n",
       "      <th>0</th>\n",
       "      <td>14/01/2020</td>\n",
       "      <td>REGION DE BRUXELLES-CAPITALE\\nREGION DE BRUXEL...</td>\n",
       "      <td>2.020010e+09</td>\n",
       "      <td>http://www.ejustice.just.fgov.be/cgi/article_b...</td>\n",
       "      <td>http://www.ejustice.just.fgov.be/cgi/article_b...</td>\n",
       "      <td>['NL', 'FR', 'belgiëlex.be \\xa0\\xa0-\\xa0\\xa0Kr...</td>\n",
       "    </tr>\n",
       "    <tr>\n",
       "      <th>1</th>\n",
       "      <td>16/01/2020</td>\n",
       "      <td>SERVICE PUBLIC FEDERAL INTERIEUR\\n10 DECEMBRE ...</td>\n",
       "      <td>2.020010e+09</td>\n",
       "      <td>http://www.ejustice.just.fgov.be/cgi/article_b...</td>\n",
       "      <td>http://www.ejustice.just.fgov.be/cgi/article_b...</td>\n",
       "      <td>['NL', 'FR', 'DE', 'ELI - Navigatie systeem vi...</td>\n",
       "    </tr>\n",
       "    <tr>\n",
       "      <th>2</th>\n",
       "      <td>16/01/2020</td>\n",
       "      <td>SERVICE PUBLIC FEDERAL FINANCES\\n7 DECEMBRE 20...</td>\n",
       "      <td>2.020040e+09</td>\n",
       "      <td>http://www.ejustice.just.fgov.be/cgi/article_b...</td>\n",
       "      <td>http://www.ejustice.just.fgov.be/cgi/article_b...</td>\n",
       "      <td>['NL', 'FR', 'DE', 'ELI - Navigatie systeem vi...</td>\n",
       "    </tr>\n",
       "  </tbody>\n",
       "</table>\n",
       "</div>"
      ],
      "text/plain": [
       "         Date                                              Title  \\\n",
       "0  14/01/2020  REGION DE BRUXELLES-CAPITALE\\nREGION DE BRUXEL...   \n",
       "1  16/01/2020  SERVICE PUBLIC FEDERAL INTERIEUR\\n10 DECEMBRE ...   \n",
       "2  16/01/2020  SERVICE PUBLIC FEDERAL FINANCES\\n7 DECEMBRE 20...   \n",
       "\n",
       "          Numac                                            Link FR  \\\n",
       "0  2.020010e+09  http://www.ejustice.just.fgov.be/cgi/article_b...   \n",
       "1  2.020010e+09  http://www.ejustice.just.fgov.be/cgi/article_b...   \n",
       "2  2.020040e+09  http://www.ejustice.just.fgov.be/cgi/article_b...   \n",
       "\n",
       "                                             Link NL  \\\n",
       "0  http://www.ejustice.just.fgov.be/cgi/article_b...   \n",
       "1  http://www.ejustice.just.fgov.be/cgi/article_b...   \n",
       "2  http://www.ejustice.just.fgov.be/cgi/article_b...   \n",
       "\n",
       "                                             nl_body  \n",
       "0  ['NL', 'FR', 'belgiëlex.be \\xa0\\xa0-\\xa0\\xa0Kr...  \n",
       "1  ['NL', 'FR', 'DE', 'ELI - Navigatie systeem vi...  \n",
       "2  ['NL', 'FR', 'DE', 'ELI - Navigatie systeem vi...  "
      ]
     },
     "execution_count": 3,
     "metadata": {},
     "output_type": "execute_result"
    }
   ],
   "source": [
    "data.head(3)"
   ]
  },
  {
   "cell_type": "code",
   "execution_count": null,
   "metadata": {},
   "outputs": [],
   "source": [
    "summ=data['nl_body']"
   ]
  },
  {
   "cell_type": "code",
   "execution_count": null,
   "metadata": {},
   "outputs": [],
   "source": [
    "main_keywords=nlp(KEYWORDS)\n",
    "keys=[]\n",
    "for _a in main_keywords:\n",
    "    for article in summ:\n",
    "        text=article.lower()\n",
    "        docarticle=nlp(text)\n",
    "        for token in docarticle:\n",
    "            if _a.similarity(token)>0.75:\n",
    "                keys.append(token)\n",
    "          \n",
    "dfkeys=pd.DataFrame(keys)\n",
    "dfkeys.to_csv(\"keywords.csv\")       \n",
    "\n",
    "#AFTER SAVING THE KEYWORDS WE MUST DECIDE WHICH ONES TO USE AND WHICH ONES TO DELETE"
   ]
  },
  {
   "cell_type": "code",
   "execution_count": null,
   "metadata": {},
   "outputs": [],
   "source": [
    "from collections import Counter\n",
    "items=[]\n",
    "for a in keys:\n",
    "    items.append(a.lower_)\n",
    "\n",
    "freq_word=Counter(items)\n",
    "freq_word.most_common(50)"
   ]
  },
  {
   "cell_type": "code",
   "execution_count": null,
   "metadata": {},
   "outputs": [],
   "source": [
    "itemsset=set(items)\n",
    "itemsset"
   ]
  },
  {
   "cell_type": "code",
   "execution_count": null,
   "metadata": {},
   "outputs": [],
   "source": []
  }
 ],
 "metadata": {
  "interpreter": {
   "hash": "78048d5901510aba3f63ef87ca1b57ab9d805b11f89c30917e9241a8225bb540"
  },
  "kernelspec": {
   "display_name": "Python 3.10.2 ('venvkpmg': venv)",
   "language": "python",
   "name": "python3"
  },
  "language_info": {
   "codemirror_mode": {
    "name": "ipython",
    "version": 3
   },
   "file_extension": ".py",
   "mimetype": "text/x-python",
   "name": "python",
   "nbconvert_exporter": "python",
   "pygments_lexer": "ipython3",
   "version": "3.10.2"
  },
  "orig_nbformat": 4
 },
 "nbformat": 4,
 "nbformat_minor": 2
}
