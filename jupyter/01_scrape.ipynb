{
 "cells": [
  {
   "cell_type": "markdown",
   "metadata": {},
   "source": [
    "### Scraping official gazetta articles of given links in the csv file"
   ]
  },
  {
   "cell_type": "code",
   "execution_count": 1,
   "metadata": {},
   "outputs": [],
   "source": [
    "import pandas as pd\n",
    "import sys\n",
    "import requests\n",
    "from bs4 import BeautifulSoup\n",
    "import re\n",
    "import string\n",
    "import unidecode\n",
    "\n",
    "\n",
    "sys.setrecursionlimit(1000000)\n",
    "data=pd.read_csv('./data/KPMG _Tax_Case_Data _Set.csv')"
   ]
  },
  {
   "cell_type": "code",
   "execution_count": 5,
   "metadata": {},
   "outputs": [
    {
     "data": {
      "text/html": [
       "<div>\n",
       "<style scoped>\n",
       "    .dataframe tbody tr th:only-of-type {\n",
       "        vertical-align: middle;\n",
       "    }\n",
       "\n",
       "    .dataframe tbody tr th {\n",
       "        vertical-align: top;\n",
       "    }\n",
       "\n",
       "    .dataframe thead th {\n",
       "        text-align: right;\n",
       "    }\n",
       "</style>\n",
       "<table border=\"1\" class=\"dataframe\">\n",
       "  <thead>\n",
       "    <tr style=\"text-align: right;\">\n",
       "      <th></th>\n",
       "      <th>Date</th>\n",
       "      <th>Title</th>\n",
       "      <th>Numac</th>\n",
       "      <th>Link FR</th>\n",
       "      <th>Link NL</th>\n",
       "    </tr>\n",
       "  </thead>\n",
       "  <tbody>\n",
       "    <tr>\n",
       "      <th>0</th>\n",
       "      <td>14/01/2020</td>\n",
       "      <td>REGION DE BRUXELLES-CAPITALE\\nREGION DE BRUXEL...</td>\n",
       "      <td>2.020010e+09</td>\n",
       "      <td>http://www.ejustice.just.fgov.be/cgi/article_b...</td>\n",
       "      <td>http://www.ejustice.just.fgov.be/cgi/article_b...</td>\n",
       "    </tr>\n",
       "    <tr>\n",
       "      <th>1</th>\n",
       "      <td>16/01/2020</td>\n",
       "      <td>SERVICE PUBLIC FEDERAL INTERIEUR\\n10 DECEMBRE ...</td>\n",
       "      <td>2.020010e+09</td>\n",
       "      <td>http://www.ejustice.just.fgov.be/cgi/article_b...</td>\n",
       "      <td>http://www.ejustice.just.fgov.be/cgi/article_b...</td>\n",
       "    </tr>\n",
       "    <tr>\n",
       "      <th>2</th>\n",
       "      <td>16/01/2020</td>\n",
       "      <td>SERVICE PUBLIC FEDERAL FINANCES\\n7 DECEMBRE 20...</td>\n",
       "      <td>2.020040e+09</td>\n",
       "      <td>http://www.ejustice.just.fgov.be/cgi/article_b...</td>\n",
       "      <td>http://www.ejustice.just.fgov.be/cgi/article_b...</td>\n",
       "    </tr>\n",
       "  </tbody>\n",
       "</table>\n",
       "</div>"
      ],
      "text/plain": [
       "         Date                                              Title  \\\n",
       "0  14/01/2020  REGION DE BRUXELLES-CAPITALE\\nREGION DE BRUXEL...   \n",
       "1  16/01/2020  SERVICE PUBLIC FEDERAL INTERIEUR\\n10 DECEMBRE ...   \n",
       "2  16/01/2020  SERVICE PUBLIC FEDERAL FINANCES\\n7 DECEMBRE 20...   \n",
       "\n",
       "          Numac                                            Link FR  \\\n",
       "0  2.020010e+09  http://www.ejustice.just.fgov.be/cgi/article_b...   \n",
       "1  2.020010e+09  http://www.ejustice.just.fgov.be/cgi/article_b...   \n",
       "2  2.020040e+09  http://www.ejustice.just.fgov.be/cgi/article_b...   \n",
       "\n",
       "                                             Link NL  \n",
       "0  http://www.ejustice.just.fgov.be/cgi/article_b...  \n",
       "1  http://www.ejustice.just.fgov.be/cgi/article_b...  \n",
       "2  http://www.ejustice.just.fgov.be/cgi/article_b...  "
      ]
     },
     "execution_count": 5,
     "metadata": {},
     "output_type": "execute_result"
    }
   ],
   "source": [
    "data.head(3)"
   ]
  },
  {
   "cell_type": "code",
   "execution_count": 3,
   "metadata": {},
   "outputs": [],
   "source": [
    "data.drop_duplicates(inplace=True)"
   ]
  },
  {
   "cell_type": "code",
   "execution_count": null,
   "metadata": {},
   "outputs": [],
   "source": [
    "#Url is in framesets we need the second frame\n",
    "data['Link FR'] = data['Link FR'].str.replace('article.pl','article_body.pl')\n",
    "data['Link NL'] = data['Link NL'].str.replace('article.pl','article_body.pl')"
   ]
  },
  {
   "cell_type": "code",
   "execution_count": null,
   "metadata": {},
   "outputs": [],
   "source": [
    "#Cleaning the scraped text\n",
    "\n",
    "def clean(_a:str):\n",
    "    d=re.sub(r'(?<=[.,;,:])(?=[^\\s])', r' ', _a)\n",
    "    \n",
    "    document_test= unidecode.unidecode(d)\n",
    "    document_test = document_test.replace('\\\\n', ' ').replace('\\n', ' ').replace('\\t',' ').replace('\\\\', ' ').replace('. com', '.com')\n",
    "\n",
    "    pattern = re.compile(r'\\s+') \n",
    "    Without_whitespace = re.sub(pattern, ' ', document_test)\n",
    "    # There are some instances where there is no space after '?' & ')', \n",
    "    # So I am replacing these with one space so that It will not consider two words as one token.\n",
    "    document_test = Without_whitespace.replace('?', ' ? ').replace(')', ') ')\n",
    "    \n",
    " \n",
    "    document_test = re.sub(r\"[^a-zA-Z0-9:$-,%.?!]+\", ' ', document_test) \n",
    "   \n",
    "    # Remove Mentions\n",
    "    document_test = re.sub(r'@\\w+', '', document_test)\n",
    "    document_test = re.sub(r\"[^a-zA-Z:$-,%.?!]+\", ' ', document_test)\n",
    "\n",
    "    return document_test"
   ]
  },
  {
   "cell_type": "code",
   "execution_count": null,
   "metadata": {},
   "outputs": [],
   "source": [
    "#Scrape the article \n",
    "links=list(data['Link NL'])  #first fremch than dutch 'Link NL'\n",
    "#links=list(data['Link FR'])\n",
    "\n",
    "nl_list=[]\n",
    "_count=0 # to check which line \n",
    "for a in links:\n",
    "    _count+=1\n",
    "    res = requests.get(a)\n",
    "    soup = BeautifulSoup(res.text, 'html.parser')\n",
    "    for sup in soup.find_all('sup'):\n",
    "        sup.unwrap()\n",
    "   \n",
    "     \n",
    "    text=soup.text\n",
    "    text=text.replace('\\n',\"\")\n",
    "    lst=text.split('Numac :')[1].split(text.split('Numac :')[2])\n",
    "  \n",
    "\n",
    "    article=lst[1].split('begin eerste woord laatste')[0].strip()\n",
    "    article=clean(article)\n",
    "    nl_list.append(article)\n",
    "    print(_count)\n",
    "    "
   ]
  },
  {
   "cell_type": "code",
   "execution_count": null,
   "metadata": {},
   "outputs": [],
   "source": [
    "data['nl_body'] = nl_list\n",
    "#data['fr_body'] = nl_list\n"
   ]
  },
  {
   "cell_type": "code",
   "execution_count": null,
   "metadata": {},
   "outputs": [],
   "source": [
    "data.head(5)"
   ]
  },
  {
   "cell_type": "code",
   "execution_count": null,
   "metadata": {},
   "outputs": [],
   "source": [
    "data.to_csv(\"data_01.csv\",sep=\"|\",index=False,encoding='utf-8')"
   ]
  },
  {
   "cell_type": "code",
   "execution_count": null,
   "metadata": {},
   "outputs": [],
   "source": [
    "#test saved csv file\n",
    "df=pd.read_csv(\"data_01.csv\",sep=\"|\",encoding='utf-8')"
   ]
  }
 ],
 "metadata": {
  "interpreter": {
   "hash": "78048d5901510aba3f63ef87ca1b57ab9d805b11f89c30917e9241a8225bb540"
  },
  "kernelspec": {
   "display_name": "Python 3.10.2 ('venvkpmg': venv)",
   "language": "python",
   "name": "python3"
  },
  "language_info": {
   "codemirror_mode": {
    "name": "ipython",
    "version": 3
   },
   "file_extension": ".py",
   "mimetype": "text/x-python",
   "name": "python",
   "nbconvert_exporter": "python",
   "pygments_lexer": "ipython3",
   "version": "3.10.2"
  },
  "orig_nbformat": 4
 },
 "nbformat": 4,
 "nbformat_minor": 2
}
