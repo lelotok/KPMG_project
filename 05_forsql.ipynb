{
 "cells": [
  {
   "cell_type": "code",
   "execution_count": null,
   "metadata": {},
   "outputs": [],
   "source": [
    "import pandas as pd\n"
   ]
  },
  {
   "cell_type": "code",
   "execution_count": 17,
   "metadata": {},
   "outputs": [],
   "source": [
    "df=pd.read_csv(\"data_03.csv\",sep=\"|\")"
   ]
  },
  {
   "cell_type": "code",
   "execution_count": 18,
   "metadata": {},
   "outputs": [
    {
     "data": {
      "text/plain": [
       "0     {dienstverplichtingen: 0.8126788139343262, bed...\n",
       "1     {belasting: 1.0, belastingverhoging: 0.8463752...\n",
       "2                                                    {}\n",
       "3                                                    {}\n",
       "4     {bedrijfsvoorheffing: 0.8049665689468384, bela...\n",
       "5     {arbeidsongeschiktheidsuitkeringen: 0.81144624...\n",
       "6                                                    {}\n",
       "7                                                    {}\n",
       "8                                                    {}\n",
       "9                                                    {}\n",
       "10    {arbeidsongeschiktheidsuitkeringen: 0.81144624...\n",
       "11                                   {aanslagjaar: 1.0}\n",
       "12                                                   {}\n",
       "13    {arbeidsongeschiktheidsuitkeringen: 0.81144624...\n",
       "14                                                   {}\n",
       "15               {voorafbetalingen: 0.8429794907569885}\n",
       "16                 {verminderingen: 0.8160161375999451}\n",
       "17                 {verminderingen: 0.8160161375999451}\n",
       "18    {arbeidsongeschiktheidsuitkeringen: 0.81144624...\n",
       "19    {belasting: 0.8639483451843262, belastingverho...\n",
       "Name: nltags, dtype: object"
      ]
     },
     "execution_count": 18,
     "metadata": {},
     "output_type": "execute_result"
    }
   ],
   "source": [
    "df['nltags'].head(20)"
   ]
  },
  {
   "cell_type": "code",
   "execution_count": 6,
   "metadata": {},
   "outputs": [
    {
     "data": {
      "text/plain": [
       "0      BRUSSELS HOOFDSTEDELIJK GEWEST 8 JANUARI 2020....\n",
       "1      FEDERALE OVERHEIDSDIENST BINNENLANDSE ZAKEN 10...\n",
       "2      FEDERALE OVERHEIDSDIENST FINANCIEN 7 DECEMBER ...\n",
       "3      MINISTERIE VAN DE FRANSE GEMEENSCHAP 20 DECEMB...\n",
       "4      FEDERALE OVERHEIDSDIENST FINANCIEN  Algemene A...\n",
       "                             ...                        \n",
       "778    FEDERALE OVERHEIDSDIENST FINANCIEN  29 MAART 2...\n",
       "779    FEDERALE OVERHEIDSDIENST SOCIALE ZEKERHEID   2...\n",
       "780    FEDERALE OVERHEIDSDIENST FINANCIEN  23 FEBRUAR...\n",
       "781    FEDERALE OVERHEIDSDIENST WERKGELEGENHEID, ARBE...\n",
       "782    VLAAMSE OVERHEID 11 FEBRUARI 2022. - Besluit v...\n",
       "Name: nl_body, Length: 783, dtype: object"
      ]
     },
     "execution_count": 6,
     "metadata": {},
     "output_type": "execute_result"
    }
   ],
   "source": [
    "df['nl_body']"
   ]
  },
  {
   "cell_type": "code",
   "execution_count": 15,
   "metadata": {},
   "outputs": [],
   "source": [
    "#Delete German text\n",
    "to_delete='De hierna volgende tekst is de Duitse vertaling'\n",
    "#df.drop(df[df['nl_body'] < 50].index, inplace=True)\n",
    "\n",
    "df=df[df[\"nl_body\"].str.contains(to_delete)==False]\n",
    "\n"
   ]
  },
  {
   "cell_type": "code",
   "execution_count": null,
   "metadata": {},
   "outputs": [],
   "source": [
    "\n"
   ]
  }
 ],
 "metadata": {
  "interpreter": {
   "hash": "78048d5901510aba3f63ef87ca1b57ab9d805b11f89c30917e9241a8225bb540"
  },
  "kernelspec": {
   "display_name": "Python 3.10.2 ('venvkpmg': venv)",
   "language": "python",
   "name": "python3"
  },
  "language_info": {
   "codemirror_mode": {
    "name": "ipython",
    "version": 3
   },
   "file_extension": ".py",
   "mimetype": "text/x-python",
   "name": "python",
   "nbconvert_exporter": "python",
   "pygments_lexer": "ipython3",
   "version": "3.10.2"
  },
  "orig_nbformat": 4
 },
 "nbformat": 4,
 "nbformat_minor": 2
}
