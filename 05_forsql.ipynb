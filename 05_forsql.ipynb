{
 "cells": [
  {
   "cell_type": "code",
   "execution_count": 1,
   "metadata": {},
   "outputs": [],
   "source": [
    "import pandas as pd\n"
   ]
  },
  {
   "cell_type": "code",
   "execution_count": 2,
   "metadata": {},
   "outputs": [],
   "source": [
    "df=pd.read_csv(\"data_03.csv\",sep=\"|\")"
   ]
  },
  {
   "cell_type": "code",
   "execution_count": 3,
   "metadata": {},
   "outputs": [
    {
     "data": {
      "text/plain": [
       "0     [dienstverplichtingen, bedrijfsinkomsten, rech...\n",
       "1     [voorbelasting, belastingverhoging, vennootsch...\n",
       "2                                                    []\n",
       "3                                                    []\n",
       "4     [zekerheidsbijdragen, belastingverdragen, bela...\n",
       "5     [zekerheidsbijdragen, arbeidsongeschiktheidsui...\n",
       "6                                                    []\n",
       "7                                                    []\n",
       "8                                                    []\n",
       "9                                                    []\n",
       "10    [zekerheidsbijdragen, arbeidsongeschiktheidsui...\n",
       "11                                        [aanslagjaar]\n",
       "12                                                   []\n",
       "13    [zekerheidsbijdragen, arbeidsongeschiktheidsui...\n",
       "14                                                   []\n",
       "15                                   [voorafbetalingen]\n",
       "16                                     [verminderingen]\n",
       "17                                     [verminderingen]\n",
       "18    [zekerheidsbijdragen, arbeidsongeschiktheidsui...\n",
       "19    [voorbelasting, belastingverhoging, vennootsch...\n",
       "Name: nltags, dtype: object"
      ]
     },
     "execution_count": 3,
     "metadata": {},
     "output_type": "execute_result"
    }
   ],
   "source": [
    "df['nltags'].head(20)"
   ]
  },
  {
   "cell_type": "code",
   "execution_count": null,
   "metadata": {},
   "outputs": [],
   "source": []
  }
 ],
 "metadata": {
  "interpreter": {
   "hash": "78048d5901510aba3f63ef87ca1b57ab9d805b11f89c30917e9241a8225bb540"
  },
  "kernelspec": {
   "display_name": "Python 3.10.2 ('venvkpmg': venv)",
   "language": "python",
   "name": "python3"
  },
  "language_info": {
   "codemirror_mode": {
    "name": "ipython",
    "version": 3
   },
   "file_extension": ".py",
   "mimetype": "text/x-python",
   "name": "python",
   "nbconvert_exporter": "python",
   "pygments_lexer": "ipython3",
   "version": "3.10.2"
  },
  "orig_nbformat": 4
 },
 "nbformat": 4,
 "nbformat_minor": 2
}
