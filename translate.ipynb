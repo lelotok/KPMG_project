{
 "cells": [
  {
   "cell_type": "code",
   "execution_count": 1,
   "metadata": {},
   "outputs": [],
   "source": [
    "import pandas as pd\n",
    "import numpy as np"
   ]
  },
  {
   "cell_type": "code",
   "execution_count": 3,
   "metadata": {},
   "outputs": [],
   "source": [
    "df=pd.read_csv(\"data/data_01.csv\",sep=\"|\")"
   ]
  },
  {
   "cell_type": "code",
   "execution_count": 4,
   "metadata": {},
   "outputs": [
    {
     "data": {
      "text/html": [
       "<div>\n",
       "<style scoped>\n",
       "    .dataframe tbody tr th:only-of-type {\n",
       "        vertical-align: middle;\n",
       "    }\n",
       "\n",
       "    .dataframe tbody tr th {\n",
       "        vertical-align: top;\n",
       "    }\n",
       "\n",
       "    .dataframe thead th {\n",
       "        text-align: right;\n",
       "    }\n",
       "</style>\n",
       "<table border=\"1\" class=\"dataframe\">\n",
       "  <thead>\n",
       "    <tr style=\"text-align: right;\">\n",
       "      <th></th>\n",
       "      <th>Date</th>\n",
       "      <th>Title</th>\n",
       "      <th>Numac</th>\n",
       "      <th>Link FR</th>\n",
       "      <th>Link NL</th>\n",
       "      <th>nl_body</th>\n",
       "      <th>fr_body</th>\n",
       "    </tr>\n",
       "  </thead>\n",
       "  <tbody>\n",
       "    <tr>\n",
       "      <th>0</th>\n",
       "      <td>14/01/2020</td>\n",
       "      <td>REGION DE BRUXELLES-CAPITALE\\nREGION DE BRUXEL...</td>\n",
       "      <td>2.020010e+09</td>\n",
       "      <td>http://www.ejustice.just.fgov.be/cgi/article_b...</td>\n",
       "      <td>http://www.ejustice.just.fgov.be/cgi/article_b...</td>\n",
       "      <td>NLFR belgiëlex.be   -  Kruispuntbank Wetgeving...</td>\n",
       "      <td>FRNL belgiquelex.be   -  Banque Carrefour de l...</td>\n",
       "    </tr>\n",
       "    <tr>\n",
       "      <th>1</th>\n",
       "      <td>16/01/2020</td>\n",
       "      <td>SERVICE PUBLIC FEDERAL INTERIEUR\\n10 DECEMBRE ...</td>\n",
       "      <td>2.020010e+09</td>\n",
       "      <td>http://www.ejustice.just.fgov.be/cgi/article_b...</td>\n",
       "      <td>http://www.ejustice.just.fgov.be/cgi/article_b...</td>\n",
       "      <td>NLFRDE ELI - Navigatie systeem via een Europes...</td>\n",
       "      <td>FRNLDE ELI - Système de navigation par identif...</td>\n",
       "    </tr>\n",
       "    <tr>\n",
       "      <th>2</th>\n",
       "      <td>16/01/2020</td>\n",
       "      <td>SERVICE PUBLIC FEDERAL FINANCES\\n7 DECEMBRE 20...</td>\n",
       "      <td>2.020040e+09</td>\n",
       "      <td>http://www.ejustice.just.fgov.be/cgi/article_b...</td>\n",
       "      <td>http://www.ejustice.just.fgov.be/cgi/article_b...</td>\n",
       "      <td>NLFRDE ELI - Navigatie systeem via een Europes...</td>\n",
       "      <td>FRNLDE ELI - Système de navigation par identif...</td>\n",
       "    </tr>\n",
       "    <tr>\n",
       "      <th>3</th>\n",
       "      <td>24/01/2020</td>\n",
       "      <td>MINISTERE DE LA COMMUNAUTE FRANCAISE\\n20 DECEM...</td>\n",
       "      <td>2.020010e+09</td>\n",
       "      <td>http://www.ejustice.just.fgov.be/cgi/article_b...</td>\n",
       "      <td>http://www.ejustice.just.fgov.be/cgi/article_b...</td>\n",
       "      <td>NLFR    eindeeerste woordlaatste woordPublicat...</td>\n",
       "      <td>FRNL    finpremier motdernier motPublié le : 2...</td>\n",
       "    </tr>\n",
       "    <tr>\n",
       "      <th>4</th>\n",
       "      <td>28/01/2020</td>\n",
       "      <td>SERVICE PUBLIC FEDERAL FINANCES\\nAdministratio...</td>\n",
       "      <td>2.020010e+09</td>\n",
       "      <td>http://www.ejustice.just.fgov.be/cgi/article_b...</td>\n",
       "      <td>http://www.ejustice.just.fgov.be/cgi/article_b...</td>\n",
       "      <td>NLFR    eindeeerste woordlaatste woordPublicat...</td>\n",
       "      <td>FRNL    finpremier motdernier motPublié le : 2...</td>\n",
       "    </tr>\n",
       "  </tbody>\n",
       "</table>\n",
       "</div>"
      ],
      "text/plain": [
       "         Date                                              Title  \\\n",
       "0  14/01/2020  REGION DE BRUXELLES-CAPITALE\\nREGION DE BRUXEL...   \n",
       "1  16/01/2020  SERVICE PUBLIC FEDERAL INTERIEUR\\n10 DECEMBRE ...   \n",
       "2  16/01/2020  SERVICE PUBLIC FEDERAL FINANCES\\n7 DECEMBRE 20...   \n",
       "3  24/01/2020  MINISTERE DE LA COMMUNAUTE FRANCAISE\\n20 DECEM...   \n",
       "4  28/01/2020  SERVICE PUBLIC FEDERAL FINANCES\\nAdministratio...   \n",
       "\n",
       "          Numac                                            Link FR  \\\n",
       "0  2.020010e+09  http://www.ejustice.just.fgov.be/cgi/article_b...   \n",
       "1  2.020010e+09  http://www.ejustice.just.fgov.be/cgi/article_b...   \n",
       "2  2.020040e+09  http://www.ejustice.just.fgov.be/cgi/article_b...   \n",
       "3  2.020010e+09  http://www.ejustice.just.fgov.be/cgi/article_b...   \n",
       "4  2.020010e+09  http://www.ejustice.just.fgov.be/cgi/article_b...   \n",
       "\n",
       "                                             Link NL  \\\n",
       "0  http://www.ejustice.just.fgov.be/cgi/article_b...   \n",
       "1  http://www.ejustice.just.fgov.be/cgi/article_b...   \n",
       "2  http://www.ejustice.just.fgov.be/cgi/article_b...   \n",
       "3  http://www.ejustice.just.fgov.be/cgi/article_b...   \n",
       "4  http://www.ejustice.just.fgov.be/cgi/article_b...   \n",
       "\n",
       "                                             nl_body  \\\n",
       "0  NLFR belgiëlex.be   -  Kruispuntbank Wetgeving...   \n",
       "1  NLFRDE ELI - Navigatie systeem via een Europes...   \n",
       "2  NLFRDE ELI - Navigatie systeem via een Europes...   \n",
       "3  NLFR    eindeeerste woordlaatste woordPublicat...   \n",
       "4  NLFR    eindeeerste woordlaatste woordPublicat...   \n",
       "\n",
       "                                             fr_body  \n",
       "0  FRNL belgiquelex.be   -  Banque Carrefour de l...  \n",
       "1  FRNLDE ELI - Système de navigation par identif...  \n",
       "2  FRNLDE ELI - Système de navigation par identif...  \n",
       "3  FRNL    finpremier motdernier motPublié le : 2...  \n",
       "4  FRNL    finpremier motdernier motPublié le : 2...  "
      ]
     },
     "execution_count": 4,
     "metadata": {},
     "output_type": "execute_result"
    }
   ],
   "source": [
    "df.head()"
   ]
  },
  {
   "cell_type": "code",
   "execution_count": 5,
   "metadata": {},
   "outputs": [
    {
     "data": {
      "text/plain": [
       "\"FRNL belgiquelex.be \\xa0\\xa0-\\xa0\\xa0Banque Carrefour de la législation  Conseil d'Etat ELI - Système de navigation par identifiant européen de la législation http://www.ejustice.just.fgov.be/eli/arrete/2020/01/08/2020010053/moniteur   finpremier motdernier motPublié le : 2020-01-14Numac : 2020010053REGION DE BRUXELLES-CAPITALE 8 JANVIER 2020. - Arrêté ministériel établissant les modèles de formulaire visé à l'article 8, § 1er, de l'arrêté du Gouvernement de la Région de Bruxelles-Capitale du 19 janvier 2017 établissant les modalités du régime préférentiel applicable aux droits de succession en cas de transmission des entreprises familiales et des sociétés familiales Le Ministre du Gouvernement de la Région \\nde Bruxelles-Capitale, chargé des Finances et du Budget,Vu le Code des droits de succession, \\nl'article 60bis/2, § 1er, inséré par l'ordonnance du 12 décembre 2016 portant \\nla deuxième partie de la réforme fiscale;Vu l'arrêté du Gouvernement de la Région de Bruxelles \\nCapitale du 19 janvier 2017 établissant les modalités du régime préférentiel applicable aux droits de \\nsuccession en cas de transmission des entreprises familiales et des sociétés familiales, l'article 8;Vu \\nle test d'égalité des chances réalisé en application de l'article 2 de l'ordonnance du 4 octobre 2018 \\ntendant à l'introduction du test d'égalité des chances;Considérant que l'article 8 de l'arrêté \\nsusvisé prévoit que le Ministre du Gouvernement de la Région de Bruxelles-Capitale, chargé des Finances \\net du Budget, est compétent pour établir le formulaire destiné à vérifier si les conditions pour le maintien \\ndu statut fiscal avantageux, obtenu dans le cadre de la transmission d'une entreprise familiale ou d'une \\nsociété familiale, ont été respectées jusqu'à l'expiration du délai de trois ans à compter de la date \\nde décès du défunt, tel que visé à l'article 60bis/2, § 1er, du Code des droits \\nde succession;Considérant que cet arrêté ministériel est dépourvu du caractère réglementaire \\nrequis par l'article 3, § 1er, des lois sur le Conseil d'Etat, coordonnées le \\n12 janvier 1973, il ne doit par conséquent pas être soumis à l'avis de la section de législation du Conseil \\nd'Etat,Arrête :Article 1er. Le formulaire destiné à vérifier si \\nles conditions pour le maintien du statut fiscal avantageux, obtenu dans le cadre de la transmission \\nd'une entreprise familiale, ont été respectées jusqu'à l'expiration d'un délai de trois ans à compter \\nde la date de décès du défunt, tel que visé à l'article 60bis/2, § 1er, du Code \\ndes droits de succession, est repris en annexe 1 du présent arrêté.Art. 2. Le formulaire destiné \\nà vérifier si les conditions pour le maintien du statut fiscal avantageux, obtenu dans le cadre de la \\ntransmission d'une société familiale, ont été respectées jusqu'à l'expiration d'un délai de trois ans \\nà compter de la date de décès du défunt, tel que visé à l'article 60bis/2, § 1er, \\ndu Code des droits de succession, est repris en annexe 2 du présent arrêté.Art. 3. Le présent \\narrêté produit ses effets le 1er janvier 2020.Bruxelles, le 8 janvier 2020.Le \\nMinistre du Gouvernement de la Région de Bruxelles-Capitale, chargé des Finances, du Budget, de la Fonction \\npublique et de la Promotion du multilinguisme,S. GATZPour la consultation du tableau, voir image     debut premier mot dernier motPublié le : 2020-01-14Numac : 2020010053\\n\""
      ]
     },
     "execution_count": 5,
     "metadata": {},
     "output_type": "execute_result"
    }
   ],
   "source": [
    "df['fr_body'][0]"
   ]
  },
  {
   "cell_type": "code",
   "execution_count": 12,
   "metadata": {},
   "outputs": [],
   "source": [
    "text = \"\".join(df['fr_body'][0])"
   ]
  },
  {
   "cell_type": "code",
   "execution_count": 13,
   "metadata": {},
   "outputs": [
    {
     "data": {
      "text/plain": [
       "'QUERY LENGTH LIMIT EXCEDEED. MAX ALLOWED QUERY : 500 CHARS QUERY LENGTH LIMIT EXCEDEED. MAX ALLOWED QUERY : 500 CHARS QUERY LENGTH LIMIT EXCEDEED. MAX ALLOWED QUERY : 500 CHARS Michel DAERDEN Vice-Minister-President and Minister for the Budget and Finance (Frenchspeaking Community)'"
      ]
     },
     "execution_count": 13,
     "metadata": {},
     "output_type": "execute_result"
    }
   ],
   "source": [
    "from translate import Translator \n",
    "\n",
    "translator = Translator(from_lang=\"french\", to_lang='english')\n",
    "translation = translator.translate(text)\n",
    "translation"
   ]
  },
  {
   "cell_type": "code",
   "execution_count": 16,
   "metadata": {},
   "outputs": [
    {
     "data": {
      "text/plain": [
       "\"FRNL belgiquelex.be - Crossroads bank for legislation Council of State ELI - Navigation system by European legislation identifier http://www.ejustice.just.fgov.be/eli/arrete/2020/01/08/2020010053 /monitor endfirst wordlast wordPublished on: 2020-01-14Numac: 2020010053BRUSSELS-CAPITAL REGION 8 JANUARY 2020. - Ministerial decree establishing the model forms referred to in Article 8, § 1, of the decree of the Government of the Region of Brussels-Capital of 19 January 2017 establishing the terms of the preferential regime applicable to inheritance tax in the event of the transfer of family businesses and family companies The Minister of the Government of the Region\\nof Brussels-Capital, in charge of Finance and Budget, Having regard to the Code of inheritance rights,\\nArticle 60bis/2, § 1, inserted by the order of December 12, 2016 on\\nthe second part of the tax reform; Having regard to the decree of the Government of the Region of Brussels\\nCapital of January 19, 2017 establishing the terms of the preferential regime applicable to the rights of\\nsuccession in the event of transfer of family businesses and family companies, Article 8;\\nthe equal opportunities test carried out pursuant to article 2 of the order of October 4, 2018\\ntending to the introduction of the equal opportunities test; Considering that article 8 of the decree\\nreferred to above provides that the Minister of the Government of the Brussels-Capital Region, in charge of Finance\\nand Budget, is competent to draw up the form intended to verify whether the conditions for maintaining\\nadvantageous tax status, obtained within the framework of the transmission of a family business or a\\nfamily company, have been complied with until the expiry of the period of three years from the date\\ndeath of the deceased, as referred to in Article 60bis/2, § 1, of the Code of Rights\\nof succession; Considering that this ministerial decree is devoid of the regulatory character\\nrequired by article 3, § 1, of the laws on the Council of State, coordinated on\\n12 January 1973, it therefore does not have to be submitted to the opinion of the Council's legislation section\\nof State, Order: Article 1. The form intended to check whether\\nthe conditions for maintaining the advantageous tax status, obtained in the context of the transmission\\nof a family business, have been complied with until the expiry of a period of three years from\\nthe date of death of the deceased, as referred to in article 60bis/2, § 1, of the Code\\ninheritance tax, is included in appendix 1 of this decree.Art. 2. The form intended\\nto verify whether the conditions for maintaining the advantageous tax status, obtained within the framework of the\\ntransmission of a family company, have been complied with until the expiry of a period of three years\\nfrom the date of death of the deceased, as referred to in Article 60bis/2, § 1,\\nof the Code of inheritance rights, is included in annex 2 of this decree.Art. 3. The Present\\ndecree takes effect on January 1, 2020.Brussels, January 8, 2020.The\\nMinister of the Government of the Brussels-Capital Region, in charge of Finance, Budget, Civil Service\\npublic service and the promotion of multilingualism, S. GATZFor consultation of the table, see image start first word last wordPublished on: 2020-01-14Numac: 2020010053\""
      ]
     },
     "execution_count": 16,
     "metadata": {},
     "output_type": "execute_result"
    }
   ],
   "source": [
    "from deep_translator import GoogleTranslator\n",
    "\n",
    "to_translate = text\n",
    "translated = GoogleTranslator(source='french', target='english').translate(to_translate)\n",
    "translated"
   ]
  },
  {
   "cell_type": "code",
   "execution_count": null,
   "metadata": {},
   "outputs": [],
   "source": []
  }
 ],
 "metadata": {
  "interpreter": {
   "hash": "3e0c04669f56f6a19b2658e6ad21e2b5ed164bb777fe4e9a52eadb675467b269"
  },
  "kernelspec": {
   "display_name": "Python 3.10.2 64-bit",
   "language": "python",
   "name": "python3"
  },
  "language_info": {
   "codemirror_mode": {
    "name": "ipython",
    "version": 3
   },
   "file_extension": ".py",
   "mimetype": "text/x-python",
   "name": "python",
   "nbconvert_exporter": "python",
   "pygments_lexer": "ipython3",
   "version": "3.10.2"
  },
  "orig_nbformat": 4
 },
 "nbformat": 4,
 "nbformat_minor": 2
}
