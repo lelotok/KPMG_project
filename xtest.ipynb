{
 "cells": [
  {
   "cell_type": "code",
   "execution_count": null,
   "metadata": {},
   "outputs": [],
   "source": [
    "import spacy\n",
    "import pandas as pd\n",
    "\n",
    "import unidecode \n",
    "\n",
    "\n",
    "from spacy.lang.nl import STOP_WORDS\n",
    "from string import punctuation\n",
    "from collections import Counter\n",
    "from heapq import nlargest\n"
   ]
  },
  {
   "cell_type": "code",
   "execution_count": null,
   "metadata": {},
   "outputs": [],
   "source": [
    "from transformers import AutoTokenizer, AutoModelForSeq2SeqLM\n",
    "\n",
    "tokenizer = AutoTokenizer.from_pretrained(\"yhavinga/t5-v1.1-base-dutch-cnn-test\")\n",
    "\n",
    "model = AutoModelForSeq2SeqLM.from_pretrained(\"yhavinga/t5-v1.1-base-dutch-cnn-test\")"
   ]
  },
  {
   "cell_type": "code",
   "execution_count": null,
   "metadata": {},
   "outputs": [],
   "source": []
  },
  {
   "cell_type": "code",
   "execution_count": null,
   "metadata": {},
   "outputs": [],
   "source": [
    "df=pd.read_csv(\"data_03.csv\",sep=\"|\")"
   ]
  },
  {
   "cell_type": "code",
   "execution_count": null,
   "metadata": {},
   "outputs": [],
   "source": [
    "nlp = spacy.load(\"nl_core_news_lg\")"
   ]
  },
  {
   "cell_type": "code",
   "execution_count": null,
   "metadata": {},
   "outputs": [],
   "source": [
    "#LOWER CASE SEARCH \n",
    "#LEMMA THE KEYWORDS\n",
    "#LEMMA THE ARTICLE\n",
    "\n",
    "nl_tax_keywords = [\"Aanslagjaar\",\"successierechten\",\"Wetboek der Successierechten\",\"fiscale hervorming\",\"fiscale gunstregime\",\"belasting over de toegevoegde waarde\",\n",
    "        \"BTW\",\"kadastraal inkomen\",\"onroerende voorheffing\",\"Algemene Administratie van de Fiscaliteit\",\"Inkomstenbelastingen\",\"belastingvermindering\",\"fiscale stimulans\",\n",
    "        \"belastbaar tijdperk\",\"Belcotax-on-web\",\"Bedrijfsvoorheffing\",\"Het Wetboek van de inkomstenbelastingen\",\n",
    "        \"fiscale schuldvorderingen\",\"het Wetboek diverse rechten en taksen\",\"fiscale schuldvorderingen\",\"belastingen op beroepsinkomsten\",\"vennootschapsbelastingen\",\n",
    "        \"belastingen op onroerende goederen\",\"verbruiksbelastingen\",\"verkeersbelastingen\",\"afvalbelastingen\",\"provinciebelastingen\",\"milieutaksen\",\"belastingaangifte\",\n",
    "        \"belastingteruggave\",\"Biztax\",\"Intervat\",\"Rv-on-web\",\"FinProf\",\"MyMinFinPro\",\"roerende voorheffing\",\"vennootschapsbelasting\",\"rechtspersonenbelasting\",\"belastingkorting\", \n",
    "        \"Bronbelasting\", \"fiscale bepalingenbelastingontduiking\",\"Belastingontwijking\",\"fiscaal voordeel\",\"Aftrekbare besteding\",\"Belastingvrije som\", \"Belastingkrediet\",\n",
    "        \"Decumul\",\"Forfaitaire beroepskosten\",\"Gemeenschappelijke aanslag\",\"Gemiddelde aanslagvoet\",\"Huwelijksquotiënt\",\"Inkomstenjaar\",\"Marginale aanslagvoet\",\n",
    "        \"Onroerende voorheffing\",\"Opcentiemen\",\"Progressieve belastingtarieven\",\"Verbeterd gemiddeld tarief\",\"Vrijstelling met progressievoorbehoud\"]\n"
   ]
  },
  {
   "cell_type": "code",
   "execution_count": null,
   "metadata": {},
   "outputs": [],
   "source": [
    "labels=['inkomstenbelasting','Aanslagjaar','Aftrekbarebesteding','afvalbelastingen','Bedrijfsvoorheffing','belastbaartijdperk','belastingaangifte','belastingenopberoepsinkomsten','belastingenoponroerendegoederen','belastingkorting','Belastingkrediet','Belastingontwijking','belastingoverdetoegevoegdewaarde','belastingteruggave','belastingvermindering','Belastingvrijesom','Belcotax-on-web','Biztax','Bronbelasting','BTW','Decumul','FinProf','fiscaalvoordeel','fiscalebepalingenbelastingontduiking','fiscalehervorming','fiscaleschuldvorderingen','fiscaleschuldvorderingen','fiscalestimulans','Forfaitaireberoepskosten','Inkomstenbelastingen','Intervat','kadastraalinkomen','milieutaksen','onroerendevoorheffing','Opcentiemen','Progressievebelastingtarieven','provinciebelastingen','rechtspersonenbelasting','roerendevoorheffing','successierechten','vennootschapsbelasting','verbruiksbelastingen','verkeersbelastingen'\n",
    "]"
   ]
  },
  {
   "cell_type": "code",
   "execution_count": null,
   "metadata": {},
   "outputs": [],
   "source": [
    "nl_tax_list=[]\n",
    "for _a in labels:\n",
    "    doc = nlp(_a)\n",
    "    for x in doc:\n",
    "        nl_tax_list.append(str(x.doc) +  \"/\" + x.dep_ + \"/\" + x.pos_)\n",
    "nl_tax_list\n"
   ]
  },
  {
   "cell_type": "code",
   "execution_count": null,
   "metadata": {},
   "outputs": [],
   "source": []
  },
  {
   "cell_type": "code",
   "execution_count": null,
   "metadata": {},
   "outputs": [],
   "source": [
    "def reducing_incorrect_character_repeatation(text):\n",
    "    \"\"\"\n",
    "    This Function will reduce repeatition to two characters \n",
    "    for alphabets and to one character for punctuations.\n",
    "    \n",
    "    arguments:\n",
    "         input_text: \"text\" of type \"String\".\n",
    "         \n",
    "    return:\n",
    "        value: Finally formatted text with alphabets repeating to \n",
    "        two characters & punctuations limited to one repeatition \n",
    "        \n",
    "    Example:\n",
    "    Input : Realllllllllyyyyy,        Greeeeaaaatttt   !!!!?....;;;;:)\n",
    "    Output : Reallyy, Greeaatt !?.;:)\n",
    "    \n",
    "    \"\"\"\n",
    "    # Pattern matching for all case alphabets\n",
    "    Pattern_alpha = re.compile(r\"([A-Za-z])\\1{1,}\", re.DOTALL)\n",
    "    \n",
    "    # Limiting all the  repeatation to two characters.\n",
    "    Formatted_text = Pattern_alpha.sub(r\"\\1\\1\", text) \n",
    "    \n",
    "    # Pattern matching for all the punctuations that can occur\n",
    "    Pattern_Punct = re.compile(r'([.,/#!$%^&*?;:{}=_`~()+-])\\1{1,}')\n",
    "    \n",
    "    # Limiting punctuations in previously formatted string to only one.\n",
    "    Combined_Formatted = Pattern_Punct.sub(r'\\1', Formatted_text)\n",
    "    \n",
    "    # The below statement is replacing repeatation of spaces that occur more than two times with that of one occurrence.\n",
    "    Final_Formatted = re.sub(' {2,}',' ', Combined_Formatted)\n",
    "    return Final_Formatted"
   ]
  },
  {
   "cell_type": "code",
   "execution_count": null,
   "metadata": {},
   "outputs": [],
   "source": [
    "l=df['nl_body']"
   ]
  },
  {
   "cell_type": "code",
   "execution_count": null,
   "metadata": {},
   "outputs": [],
   "source": [
    "import re\n",
    "import string\n",
    "\n",
    "documents_clean = []\n",
    "for d in l[14:15]:\n",
    "    d=re.sub(r'(?<=[.,;,:])(?=[^\\s])', r' ', d)\n",
    "    \n",
    "\n",
    "\n",
    "    document_test= unidecode.unidecode(d)\n",
    "    document_test = document_test.replace('\\\\n', ' ').replace('\\n', ' ').replace('\\t',' ').replace('\\\\', ' ').replace('. com', '.com')\n",
    "\n",
    "    \n",
    "\n",
    "       \n",
    "    pattern = re.compile(r'\\s+') \n",
    "    Without_whitespace = re.sub(pattern, ' ', document_test)\n",
    "    # There are some instances where there is no space after '?' & ')', \n",
    "    # So I am replacing these with one space so that It will not consider two words as one token.\n",
    "    document_test = Without_whitespace.replace('?', ' ? ').replace(')', ') ')\n",
    "    document_test = document_test.lower()\n",
    "    document_test=reducing_incorrect_character_repeatation(document_test)\n",
    "\n",
    "    document_test = re.sub(r\"[^a-zA-Z0-9:$-,%.?!]+\", ' ', document_test) \n",
    "\n",
    "   \n",
    "    # Remove Mentions\n",
    "    document_test = re.sub(r'@\\w+', '', document_test)\n",
    "    document_test = re.sub(r\"[^a-zA-Z:$-,%.?!]+\", ' ', document_test)\n",
    "\n",
    "    documents_clean.append(document_test)\n",
    "    \n"
   ]
  },
  {
   "cell_type": "code",
   "execution_count": null,
   "metadata": {},
   "outputs": [],
   "source": [
    "text=documents_clean[0]\n",
    "doc = nlp(text)\n",
    "type(doc)\n",
    "len(list(doc.sents))"
   ]
  },
  {
   "cell_type": "code",
   "execution_count": null,
   "metadata": {},
   "outputs": [],
   "source": [
    "keyword=[]\n",
    "stopwords = list(STOP_WORDS)\n",
    "pos_tag = ['PROPN', 'ADJ', 'NOUN', 'VERB']\n",
    "for token in doc:\n",
    "    if(token.text in stopwords or token.text in punctuation):   # check lemma\n",
    "        continue\n",
    "    if(token.pos_ in pos_tag):\n",
    "        keyword.append(token.ent_id_)\n",
    "freq_word=Counter(keyword)\n",
    "freq_word.most_common(10)"
   ]
  },
  {
   "cell_type": "code",
   "execution_count": null,
   "metadata": {},
   "outputs": [],
   "source": [
    "highest={}\n",
    "for a in nl_tax_list:\n",
    "    if freq_word.get(a) !=None:\n",
    "        highest[a]=freq_word.get(a)\n",
    "\n",
    "highest\n",
    "    "
   ]
  },
  {
   "cell_type": "code",
   "execution_count": null,
   "metadata": {},
   "outputs": [],
   "source": [
    "doc"
   ]
  },
  {
   "cell_type": "code",
   "execution_count": null,
   "metadata": {},
   "outputs": [],
   "source": []
  }
 ],
 "metadata": {
  "interpreter": {
   "hash": "78048d5901510aba3f63ef87ca1b57ab9d805b11f89c30917e9241a8225bb540"
  },
  "kernelspec": {
   "display_name": "Python 3.10.2 ('venvkpmg': venv)",
   "language": "python",
   "name": "python3"
  },
  "language_info": {
   "codemirror_mode": {
    "name": "ipython",
    "version": 3
   },
   "file_extension": ".py",
   "mimetype": "text/x-python",
   "name": "python",
   "nbconvert_exporter": "python",
   "pygments_lexer": "ipython3",
   "version": "3.10.2"
  },
  "orig_nbformat": 4
 },
 "nbformat": 4,
 "nbformat_minor": 2
}
