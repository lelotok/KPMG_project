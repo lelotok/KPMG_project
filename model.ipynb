{
 "cells": [
  {
   "cell_type": "code",
   "execution_count": null,
   "metadata": {},
   "outputs": [],
   "source": [
    "import spacy\n",
    "import pandas as pd\n",
    "\n",
    "import unidecode \n",
    "\n",
    "\n",
    "from spacy.lang.nl import STOP_WORDS\n",
    "from string import punctuation\n",
    "from collections import Counter\n",
    "from heapq import nlargest\n",
    "\n"
   ]
  },
  {
   "cell_type": "code",
   "execution_count": null,
   "metadata": {},
   "outputs": [],
   "source": [
    "spacy.prefer_gpu"
   ]
  },
  {
   "cell_type": "code",
   "execution_count": null,
   "metadata": {},
   "outputs": [],
   "source": [
    "df=pd.read_csv(\"data_03.csv\",sep=\"|\")"
   ]
  },
  {
   "cell_type": "code",
   "execution_count": null,
   "metadata": {},
   "outputs": [],
   "source": [
    "df.shape"
   ]
  },
  {
   "cell_type": "code",
   "execution_count": null,
   "metadata": {},
   "outputs": [],
   "source": [
    "nlp = spacy.load(\"nl_core_news_lg\")"
   ]
  },
  {
   "cell_type": "code",
   "execution_count": null,
   "metadata": {},
   "outputs": [],
   "source": [
    "df.iloc[780:]"
   ]
  },
  {
   "cell_type": "code",
   "execution_count": null,
   "metadata": {},
   "outputs": [],
   "source": [
    "df.iat[0,6]"
   ]
  },
  {
   "cell_type": "code",
   "execution_count": 186,
   "metadata": {},
   "outputs": [],
   "source": [
    "#LOWER CASE SEARCH \n",
    "#LEMMA THE KEYWORDS\n",
    "#LEMMA THE ARTICLE\n",
    "\n",
    "nl_tax_keywords = [\"Aanslagjaar\",\"successierechten\",\"Wetboek der Successierechten\",\"fiscale hervorming\",\"fiscale gunstregime\",\"belasting over de toegevoegde waarde\",\n",
    "        \"BTW\",\"kadastraal inkomen\",\"onroerende voorheffing\",\"Algemene Administratie van de Fiscaliteit\",\"Inkomstenbelastingen\",\"belastingvermindering\",\"fiscale stimulans\",\n",
    "        \"belastbaar tijdperk\",\"Belcotax-on-web\",\"Bedrijfsvoorheffing\",\"Het Wetboek van de inkomstenbelastingen\",\"het Wetboek diverse rechten en taksen\",\n",
    "        \"fiscale schuldvorderingen\",\"het Wetboek diverse rechten en taksen\",\"fiscale schuldvorderingen\",\"belastingen op beroepsinkomsten\",\"vennootschapsbelastingen\",\n",
    "        \"belastingen op onroerende goederen\",\"verbruiksbelastingen\",\"verkeersbelastingen\",\"afvalbelastingen\",\"provinciebelastingen\",\"milieutaksen\",\"belastingaangifte\",\n",
    "        \"belastingteruggave\",\"Biztax\",\"Intervat\",\"Rv-on-web\",\"FinProf\",\"MyMinFinPro\",\"roerende voorheffing\",\"vennootschapsbelasting\",\"rechtspersonenbelasting\",\"belastingkorting\", \n",
    "        \"Bronbelasting\", \"fiscale bepalingenbelastingontduiking\",\"Belastingontwijking\",\"fiscaal voordeel\",\"Aftrekbare besteding\",\"Belastingvrije som\", \"Belastingkrediet\",\n",
    "        \"Decumul\",\"Forfaitaire beroepskosten\",\"Gemeenschappelijke aanslag\",\"Gemiddelde aanslagvoet\",\"Huwelijksquotiënt\",\"Inkomstenjaar\",\"Marginale aanslagvoet\",\n",
    "        \"Onroerende voorheffing\",\"Opcentiemen\",\"Progressieve belastingtarieven\",\"Verbeterd gemiddeld tarief\",\"Vrijstelling met progressievoorbehoud\"]\n",
    "\n",
    "\n",
    "\n"
   ]
  },
  {
   "cell_type": "code",
   "execution_count": null,
   "metadata": {},
   "outputs": [],
   "source": [
    "text=df.iat[0,5]\n",
    "\n",
    "\n",
    "doc = nlp(text)\n",
    "type(doc)\n",
    "len(list(doc.sents))"
   ]
  },
  {
   "cell_type": "code",
   "execution_count": null,
   "metadata": {},
   "outputs": [],
   "source": [
    "def accented_characters_removal(text):\n",
    "    # this is a docstring\n",
    "    \"\"\"\n",
    "    The function will remove accented characters from the \n",
    "    text contained within the Dataset.\n",
    "       \n",
    "    arguments:\n",
    "        input_text: \"text\" of type \"String\". \n",
    "                    \n",
    "    return:\n",
    "        value: \"text\" with removed accented characters.\n",
    "        \n",
    "    Example:\n",
    "    Input : Málaga, àéêöhello\n",
    "    Output : Malaga, aeeohello    \n",
    "        \n",
    "    \"\"\"\n",
    "    # Remove accented characters from text using unidecode.\n",
    "    # Unidecode() - It takes unicode data & tries to represent it to ASCII characters. \n",
    "    text = unidecode.unidecode(text)\n",
    "    return text"
   ]
  },
  {
   "cell_type": "code",
   "execution_count": null,
   "metadata": {},
   "outputs": [],
   "source": [
    "def remove_newlines_tabs(text):\n",
    "    \"\"\"\n",
    "    This function will remove all the occurrences of newlines, tabs, and combinations like: \\\\n, \\\\.\n",
    "    \n",
    "    arguments:\n",
    "        input_text: \"text\" of type \"String\". \n",
    "                    \n",
    "    return:\n",
    "        value: \"text\" after removal of newlines, tabs, \\\\n, \\\\ characters.\n",
    "        \n",
    "    Example:\n",
    "    Input : This is her \\\\ first day at this place.\\n Please,\\t Be nice to her.\\\\n\n",
    "    Output : This is her first day at this place. Please, Be nice to her. \n",
    "    \n",
    "    \"\"\"\n",
    "    \n",
    "    # Replacing all the occurrences of \\n,\\\\n,\\t,\\\\ with a space.\n",
    "    Formatted_text = text.replace('\\\\n', ' ').replace('\\n', ' ').replace('\\t',' ').replace('\\\\', ' ').replace('. com', '.com')\n",
    "    return Formatted_text"
   ]
  },
  {
   "cell_type": "code",
   "execution_count": null,
   "metadata": {},
   "outputs": [],
   "source": [
    "def remove_whitespace(text):\n",
    "    \"\"\" This function will remove \n",
    "        extra whitespaces from the text\n",
    "    arguments:\n",
    "        input_text: \"text\" of type \"String\". \n",
    "                    \n",
    "    return:\n",
    "        value: \"text\" after extra whitespaces removed .\n",
    "        \n",
    "    Example:\n",
    "    Input : How   are   you   doing   ?\n",
    "    Output : How are you doing ?     \n",
    "        \n",
    "    \"\"\"\n",
    "    pattern = re.compile(r'\\s+') \n",
    "    Without_whitespace = re.sub(pattern, ' ', text)\n",
    "    # There are some instances where there is no space after '?' & ')', \n",
    "    # So I am replacing these with one space so that It will not consider two words as one token.\n",
    "    text = Without_whitespace.replace('?', ' ? ').replace(')', ') ')\n",
    "    return text"
   ]
  },
  {
   "cell_type": "code",
   "execution_count": 154,
   "metadata": {},
   "outputs": [],
   "source": [
    "def reducing_incorrect_character_repeatation(text):\n",
    "    \"\"\"\n",
    "    This Function will reduce repeatition to two characters \n",
    "    for alphabets and to one character for punctuations.\n",
    "    \n",
    "    arguments:\n",
    "         input_text: \"text\" of type \"String\".\n",
    "         \n",
    "    return:\n",
    "        value: Finally formatted text with alphabets repeating to \n",
    "        two characters & punctuations limited to one repeatition \n",
    "        \n",
    "    Example:\n",
    "    Input : Realllllllllyyyyy,        Greeeeaaaatttt   !!!!?....;;;;:)\n",
    "    Output : Reallyy, Greeaatt !?.;:)\n",
    "    \n",
    "    \"\"\"\n",
    "    # Pattern matching for all case alphabets\n",
    "    Pattern_alpha = re.compile(r\"([A-Za-z])\\1{1,}\", re.DOTALL)\n",
    "    \n",
    "    # Limiting all the  repeatation to two characters.\n",
    "    Formatted_text = Pattern_alpha.sub(r\"\\1\\1\", text) \n",
    "    \n",
    "    # Pattern matching for all the punctuations that can occur\n",
    "    Pattern_Punct = re.compile(r'([.,/#!$%^&*?;:{}=_`~()+-])\\1{1,}')\n",
    "    \n",
    "    # Limiting punctuations in previously formatted string to only one.\n",
    "    Combined_Formatted = Pattern_Punct.sub(r'\\1', Formatted_text)\n",
    "    \n",
    "    # The below statement is replacing repeatation of spaces that occur more than two times with that of one occurrence.\n",
    "    Final_Formatted = re.sub(' {2,}',' ', Combined_Formatted)\n",
    "    return Final_Formatted"
   ]
  },
  {
   "cell_type": "code",
   "execution_count": 158,
   "metadata": {},
   "outputs": [],
   "source": [
    "def removing_special_characters(text):\n",
    "    \"\"\"Removing all the special characters except the one that is passed within \n",
    "       the regex to match, as they have imp meaning in the text provided.\n",
    "   \n",
    "    \n",
    "    arguments:\n",
    "         input_text: \"text\" of type \"String\".\n",
    "         \n",
    "    return:\n",
    "        value: Text with removed special characters that don't require.\n",
    "        \n",
    "    Example: \n",
    "    Input : Hello, K-a-j-a-l. Thi*s is $100.05 : the payment that you will recieve! (Is this okay?) \n",
    "    Output :  Hello, Kajal. This is $100.05 : the payment that you will recieve! Is this okay?\n",
    "    \n",
    "   \"\"\"\n",
    "    # The formatted text after removing not necessary punctuations.\n",
    "    Formatted_Text = re.sub(r\"[^a-zA-Z0-9:$-,%.?!]+\", ' ', text) \n",
    "    # In the above regex expression,I am providing necessary set of punctuations that are frequent in this particular dataset.\n",
    "    return Formatted_Text"
   ]
  },
  {
   "cell_type": "code",
   "execution_count": 151,
   "metadata": {},
   "outputs": [],
   "source": [
    "l=df['nl_body']"
   ]
  },
  {
   "cell_type": "code",
   "execution_count": 176,
   "metadata": {},
   "outputs": [
    {
     "name": "stdout",
     "output_type": "stream",
     "text": [
      "FEDERALE OVERHEIDSDIENST BINNENLANDSE ZAKEN 10 DECEMBER 2017. - Koninklijk besluit tot wijziging van het koninklijk besluit nr. 20 van 20 juli 1970 tot vaststelling van de tarieven van de belasting over de toegevoegde waarde en tot indeling van de goederen en de diensten bij die tarieven wat bepaalde producten bestemd voor de intieme hygiënische bescherming en de externe defibrillatoren betreft. - Duitse vertaling De hierna volgende tekst is de Duitse vertaling van het koninklijk besluit van 10 december 2017 tot wijziging van het koninklijk besluit nr. 20 van 20 juli 1970 tot vaststelling van de tarieven van de belasting over de toegevoegde waarde en tot indeling van de goederen en de diensten bij die tarieven wat bepaalde producten bestemd voor de intieme hygiënische bescherming en de externe defibrillatoren betreft (Belgisch Staatsblad van 22 december 2017), bekrachtigd bij de wet van 30 juli 2018 (Belgisch Staatsblad van 10 augustus 2018, err. van 28 augustus 2018). Deze vertaling is opgemaakt door de Centrale dienst voor Duitse vertaling in Malmedy. FÖDERALER ÖFFENTLICHER DIENST FINANZEN10. DEZEMBER 2017 - Königlicher Erlass zur Abänderung hinsichtlich bestimmter Erzeugnisse für den Schutz der Intimhygiene und hinsichtlich der externen Defibrillatoren des Königlichen Erlasses Nr. 20 vom 20. Juli 1970 zur Festlegung der Mehrwertsteuersätze und zur Einteilung der Güter und Dienstleistungen nach diesen SätzenPHILIPPE, Konig der Belgier, Allen Gegenwartigen und Zukunftigen, Unser Gruß!Aufgrund des Mehrwertsteuergesetzbuches, des Artikels 37 §  1, ersetzt durch das Gesetz vom 28. Dezember 1992; Aufgrund des Königlichen Erlasses Nr. 20 vom 20. Juli 1970 zur Festlegung der Mehrwertsteuersätze und zur Einteilung der Güter und Dienstleistungen nach diesen Sätzen; Aufgrund der Stellungnahme des Finanzinspektors vom 26. Oktober 2016; Aufgrund des Einverständnisses der Ministerin des Haushalts vom 18. November 2016 und 2. Februar 2017; Aufgrund des Gutachtens Nr. 62. 267/3 des Staatsrates vom 27. Oktober 2017, abgegeben in Anwendung von Artikel 84 § 1 Absatz 1 Nr. 2 der am 12. Januar 1973 koordinierten Gesetze über den Staatsrat; Aufgrund der Auswirkungsanalyse beim Erlass von Vorschriften, die gemäß den Artikeln 6 und 7 des Gesetzes vom 15. Dezember 2013 zur Festlegung verschiedener Bestimmungen in Sachen administrative Vereinfachung durchgeführt worden ist; Auf Vorschlag des Ministers der Finanzen und aufgrund der Stellungnahme der Minister, die im Rat darüber beraten haben, Haben Wir beschloßen und erlassen Wir: Artikel 1 - Tabelle A Rubrik XXIII der Anlage zum Königlichen Erlass Nr. 20 vom 20. Juli 1970 zur Festlegung der Mehrwertsteuersätze und zur Einteilung der Güter und Dienstleistungen nach diesen Sätzen, zuletzt abgeändert durch den Königlichen Erlass vom 26. Januar 2016, wird wie folgt abgeändert: a) In Nr. 2 werden die Wörter \"Damenbinden, Slipeinlagen und\" aufgehoben. b) Die Rubrik wird durch Nummern 10 und 11 mit folgendem Wortlaut ergänzt: \"10. Damenbinden, Tampons, Slipeinlagen und ähnliche Erzeugnisse für Zwecke der Monatshygiene und Intimpflegetücher für den hygienischen Schutz des Genitalbereichs von anderen Personen als Babys11. Externe Defibrillatoren\". Art. 2 - In Tabelle A Rubrik XXVI der Anlage zu demselben Erlass, zuletzt abgeändert durch den Königlichen Erlass vom 30. April 2013, werden in Absatz 1 zwischen den Wörtern \"bis einschließlich 8\" und den Wörtern \"erwähnt sind\" die Wörter \"und 11\" eingefügt. Art. 3 - In Tabelle A Rubrik XXXIV der Anlage zu demselben Erlass, zuletzt abgeändert durch den Königlichen Erlass vom 26. Januar 2016, werden in Nr. 1 zwischen den Wörtern \"bis einschließlich 8\" und den Wörtern \"erwähnt sind\" die Wörter \"und 11\" eingefügt. Art. 4 - Vorliegender Erlass tritt am 1. Januar 2018 in Kraft. Art. 5 - Der für Finanzen zuständige Minister ist mit der Ausführung des vorliegenden Erlasses beauftragt. Gegeben zu Brüssel, den 10. Dezember 2017PHILIPPEVon Königs wegen: Der Minister der FinanzenJ. VAN OVERTVELDT\n"
     ]
    }
   ],
   "source": [
    "import re\n",
    "import string\n",
    "\n",
    "documents_clean = []\n",
    "for d in l[1:2]:\n",
    "    d=re.sub(r'(?<=[.,;,:])(?=[^\\s])', r' ', d)\n",
    "    \n",
    "\n",
    "\n",
    "    document_test=accented_characters_removal(d)\n",
    "    document_test=remove_newlines_tabs(document_test)\n",
    "    document_test=remove_whitespace(document_test)\n",
    "    document_test = document_test.lower()\n",
    "    document_test=reducing_incorrect_character_repeatation(document_test)\n",
    "    document_test=removing_special_characters(document_test)\n",
    "\n",
    "\n",
    "    # Remove Mentions\n",
    "    document_test = re.sub(r'@\\w+', '', document_test)\n",
    "    document_test = re.sub(r\"[^a-zA-Z:$-,%.?!]+\", ' ', document_test)\n",
    "\n",
    "    \n",
    "    \n",
    "    # Remove punctuations\n",
    "    #document_test = re.sub(r'[%s]' % re.escape(string.punctuation), ' ', document_test)\n",
    "    # Lowercase the numbers\n",
    " #   document_test = re.sub(r'[0-9]', '', document_test)\n",
    "    # Remove the doubled space\n",
    "#    document_test = re.sub(r'\\s{2,}', ' ', document_test)\n",
    "    documents_clean.append(document_test)\n",
    "    print(d)\n"
   ]
  },
  {
   "cell_type": "code",
   "execution_count": 181,
   "metadata": {},
   "outputs": [
    {
     "data": {
      "text/plain": [
       "'federale overheidsdienst binnenlandse zaken december . koninklijk besluit tot wijziging van het koninklijk besluit nr. van juli tot vaststelling van de tarieven van de belasting over de toegevoegde waarde en tot indeling van de goederen en de diensten bij die tarieven wat bepaalde producten bestemd voor de intieme hygienische bescherming en de externe defibrillatoren betreft. duitse vertaling de hierna volgende tekst is de duitse vertaling van het koninklijk besluit van december tot wijziging van het koninklijk besluit nr. van juli tot vaststelling van de tarieven van de belasting over de toegevoegde waarde en tot indeling van de goederen en de diensten bij die tarieven wat bepaalde producten bestemd voor de intieme hygienische bescherming en de externe defibrillatoren betreft (belgisch staatsblad van december ) , bekrachtigd bij de wet van juli (belgisch staatsblad van augustus , err. van augustus ) . deze vertaling is opgemaakt door de centrale dienst voor duitse vertaling in malmedy. foderaler offentlicher dienst finanzen . dezember koniglicher erlass zur abanderung hinsichtlich bestimmter erzeugnisse fur den schutz der intimhygiene und hinsichtlich der externen defibrillatoren des koniglichen erlasses nr. vom . juli zur festlegung der mehrwertsteuersatze und zur einteilung der guter und dienstleistungen nach diesen satzenphilippe, konig der belgier, allen gegenwartigen und zukunftigen, unser gruss!aufgrund des mehrwertsteuergesetzbuches, des artikels ss , ersetzt durch das gesetz vom . dezember aufgrund des koniglichen erlasses nr. vom . juli zur festlegung der mehrwertsteuersatze und zur einteilung der guter und dienstleistungen nach diesen satzen aufgrund der stellungnahme des finanzinspektors vom . oktober aufgrund des einverstandnisses der ministerin des haushalts vom . november und . februar aufgrund des gutachtens nr. . des staatsrates vom . oktober , abgegeben in anwendung von artikel ss absatz nr. der am . januar koordinierten gesetze uber den staatsrat aufgrund der auswirkungsanalyse beim erlass von vorschriften, die gemass den artikeln und des gesetzes vom . dezember zur festlegung verschiedener bestimmungen in sachen administrative vereinfachung durchgefuhrt worden ist auf vorschlag des ministers der finanzen und aufgrund der stellungnahme der minister, die im rat daruber beraten haben, haben wir beschlossen und erlassen wir: artikel tabelle a rubrik xxii der anlage zum koniglichen erlass nr. vom . juli zur festlegung der mehrwertsteuersatze und zur einteilung der guter und dienstleistungen nach diesen satzen, zuletzt abgeandert durch den koniglichen erlass vom . januar , wird wie folgt abgeandert: a) in nr. werden die worter damenbinden, slipeinlagen und aufgehoben. b) die rubrik wird durch nummern und mit folgendem wortlaut erganzt: . damenbinden, tampons, slipeinlagen und ahnliche erzeugnisse fur zwecke der monatshygiene und intimpflegetucher fur den hygienischen schutz des genitalbereichs von anderen personen als babys . externe defibrillatoren . art. in tabelle a rubrik xxvi der anlage zu demselben erlass, zuletzt abgeandert durch den koniglichen erlass vom . april , werden in absatz zwischen den wortern bis einschliesslich und den wortern erwahnt sind die worter und eingefugt. art. in tabelle a rubrik xxiv der anlage zu demselben erlass, zuletzt abgeandert durch den koniglichen erlass vom . januar , werden in nr. zwischen den wortern bis einschliesslich und den wortern erwahnt sind die worter und eingefugt. art. vorliegender erlass tritt am . januar in kraft. art. der fur finanzen zustandige minister ist mit der ausfuhrung des vorliegenden erlasses beauftragt. gegeben zu brussel, den . dezember philippevon konigs wegen: der minister der finanzenj. van overtveldt'"
      ]
     },
     "execution_count": 181,
     "metadata": {},
     "output_type": "execute_result"
    }
   ],
   "source": [
    "text=documents_clean[0]\n",
    "text"
   ]
  },
  {
   "cell_type": "code",
   "execution_count": 182,
   "metadata": {},
   "outputs": [
    {
     "data": {
      "text/plain": [
       "51"
      ]
     },
     "execution_count": 182,
     "metadata": {},
     "output_type": "execute_result"
    }
   ],
   "source": [
    "doc = nlp(text)\n",
    "type(doc)\n",
    "len(list(doc.sents))"
   ]
  },
  {
   "cell_type": "code",
   "execution_count": null,
   "metadata": {},
   "outputs": [],
   "source": [
    "df.iat[0,6]"
   ]
  },
  {
   "cell_type": "code",
   "execution_count": null,
   "metadata": {},
   "outputs": [],
   "source": [
    "df.to_csv(\"data_04.csv\",sep=\"|\",index=False,encoding='utf-8')"
   ]
  },
  {
   "cell_type": "code",
   "execution_count": null,
   "metadata": {},
   "outputs": [],
   "source": [
    "documents_clean[1]"
   ]
  },
  {
   "cell_type": "code",
   "execution_count": 183,
   "metadata": {},
   "outputs": [],
   "source": [
    "keyword=[]\n",
    "stopwords = list(STOP_WORDS)\n",
    "pos_tag = ['PROPN', 'ADJ', 'NOUN', 'VERB']\n",
    "for token in doc:\n",
    "    if(token.text in stopwords or token.text in punctuation):   # check lemma\n",
    "        continue\n",
    "    if(token.pos_ in pos_tag):\n",
    "        keyword.append(token.lemma_)"
   ]
  },
  {
   "cell_type": "code",
   "execution_count": 184,
   "metadata": {},
   "outputs": [
    {
     "data": {
      "text/plain": [
       "[('vom', 7),\n",
       " ('juli', 6),\n",
       " ('und', 5),\n",
       " ('koninklijk', 4),\n",
       " ('besluit', 4),\n",
       " ('tarief', 4),\n",
       " ('dienst', 4),\n",
       " ('extern', 4),\n",
       " ('defibrillator', 4),\n",
       " ('vertaling', 4)]"
      ]
     },
     "execution_count": 184,
     "metadata": {},
     "output_type": "execute_result"
    }
   ],
   "source": [
    "freq_word=Counter(keyword)\n",
    "freq_word.most_common(10)"
   ]
  },
  {
   "cell_type": "code",
   "execution_count": 175,
   "metadata": {},
   "outputs": [
    {
     "data": {
      "text/plain": [
       "[('artikel', 1.0),\n",
       " ('besluit', 0.9),\n",
       " ('familiaal', 0.8),\n",
       " ('bedoelen', 0.7),\n",
       " ('Brussels', 0.6)]"
      ]
     },
     "execution_count": 175,
     "metadata": {},
     "output_type": "execute_result"
    }
   ],
   "source": [
    "max_freq=Counter(keyword).most_common(1)[0][1]\n",
    "for word in freq_word.keys():\n",
    "    freq_word[word]=(freq_word[word]/max_freq)\n",
    "freq_word.most_common(5)"
   ]
  },
  {
   "cell_type": "code",
   "execution_count": 171,
   "metadata": {},
   "outputs": [
    {
     "name": "stdout",
     "output_type": "stream",
     "text": [
      "{brussels hoofdstedelijk gewest januari .: 0.9, ministerieel besluit tot vaststelling van de modellen van formulier bedoeld in artikel , ss van het besluit van de brusselse hoofdstedelijke regering van januari tot vaststelling van de modaliteiten van het gunstregime toepasselijk op de successierechten bij overdracht van familiale ondernemingen en familiale vennootschappen de minister van de brusselse hoofdstedelijke regering, belast met financien en begroting, gelet op het wetboek der successierechten, artikel bis , ss , ingevoegd door de ordonnantie van december houdende het tweede deel van de fiscale hervorming gelet op het besluit van de brusselse hoofdstedelijke regering van januari tot vaststelling van de modaliteiten van het gunstregime toepasselijk op de successierechten bij overdracht van familiale ondernemingen en familiale vennootschappen, artikel gelet op de gelijkekansentest uitgevoerd in toepassing van artikel van de ordonnantie van oktober tot invoering van de gelijkekansentest overwegende dat artikel van bovengenoemd besluit stelt dat de minister van de brusselse hoofdstedelijke regering, belast met financien en begroting, bevoegd is om het formulier dat bedoeld is om na te gaan of de voorwaarden voor het behoud van de het fiscale gunstregime, dat werd bekomen in het kader van de overdracht van een familiale onderneming of een familiale vennootschap, vervuld zijn gebleven tot het einde van de driejarige periode die aanving bij het overlijden van de decujus, zoals bedoeld in artikel bis , ss , van het wetboek der successierechten overwegende dat dit ministerieel besluit geen reglementaire voorschriften bevat in de zin van artikel , ss , eerste lid, van de gecoordineerde wetten van de raad van state van januari , is het niet onderworpen aan het advies van de raad van state, afdeling wetgeving, besluit :: 50.9, artikel .: 1.0, het formulier dat bedoeld is om na te gaan of de voorwaarden voor het behoud van de het fiscale gunstregime, dat werd bekomen in het kader van de overdracht van een familiale onderneming, vervuld zijn gebleven tot het einde van de driejarige periode die aanving bij het overlijden van de decujus, zoals bedoeld in artikel bis , ss van het wetboek der successierechten, is hernomen in bijlage van dit besluit.: 11.999999999999996, het formulier dat bedoeld is om na te gaan of de voorwaarden voor het behoud van het fiscale gunstregime, dat werd bekomen in het kader van het overdracht van een familiale vennootschap, vervuld zijn gebleven tot het einde van de driejarige periode die aanving bij het overlijden van de decujus, zoals bedoeld in artikel bis , ss van het wetboek der successierechten, is hernomen in bijlage bij dit besluit.: 11.999999999999996, dit besluit heeft uitwerking met ingang van januari .: 1.7000000000000002, brussel, januari .: 0.7, de minister van de brusselse hoofdstedelijke regering, belast met financien, begroting, openbaar ambt en de promotie van meertaligheid, s. gatz voor de raadpleging van de tabel, zie beeld: 3.6000000000000005}\n"
     ]
    }
   ],
   "source": [
    "sent_strenght={}\n",
    "for sent in doc.sents:\n",
    "    for word in sent:\n",
    "        if word.text in freq_word.keys():\n",
    "            if sent in sent_strenght.keys():\n",
    "                sent_strenght[sent]+=freq_word[word.text]\n",
    "            else:\n",
    "                sent_strenght[sent]=freq_word[word.text]\n",
    "print(sent_strenght)"
   ]
  },
  {
   "cell_type": "code",
   "execution_count": 172,
   "metadata": {},
   "outputs": [
    {
     "name": "stdout",
     "output_type": "stream",
     "text": [
      "[ministerieel besluit tot vaststelling van de modellen van formulier bedoeld in artikel , ss van het besluit van de brusselse hoofdstedelijke regering van januari tot vaststelling van de modaliteiten van het gunstregime toepasselijk op de successierechten bij overdracht van familiale ondernemingen en familiale vennootschappen de minister van de brusselse hoofdstedelijke regering, belast met financien en begroting, gelet op het wetboek der successierechten, artikel bis , ss , ingevoegd door de ordonnantie van december houdende het tweede deel van de fiscale hervorming gelet op het besluit van de brusselse hoofdstedelijke regering van januari tot vaststelling van de modaliteiten van het gunstregime toepasselijk op de successierechten bij overdracht van familiale ondernemingen en familiale vennootschappen, artikel gelet op de gelijkekansentest uitgevoerd in toepassing van artikel van de ordonnantie van oktober tot invoering van de gelijkekansentest overwegende dat artikel van bovengenoemd besluit stelt dat de minister van de brusselse hoofdstedelijke regering, belast met financien en begroting, bevoegd is om het formulier dat bedoeld is om na te gaan of de voorwaarden voor het behoud van de het fiscale gunstregime, dat werd bekomen in het kader van de overdracht van een familiale onderneming of een familiale vennootschap, vervuld zijn gebleven tot het einde van de driejarige periode die aanving bij het overlijden van de decujus, zoals bedoeld in artikel bis , ss , van het wetboek der successierechten overwegende dat dit ministerieel besluit geen reglementaire voorschriften bevat in de zin van artikel , ss , eerste lid, van de gecoordineerde wetten van de raad van state van januari , is het niet onderworpen aan het advies van de raad van state, afdeling wetgeving, besluit :, het formulier dat bedoeld is om na te gaan of de voorwaarden voor het behoud van de het fiscale gunstregime, dat werd bekomen in het kader van de overdracht van een familiale onderneming, vervuld zijn gebleven tot het einde van de driejarige periode die aanving bij het overlijden van de decujus, zoals bedoeld in artikel bis , ss van het wetboek der successierechten, is hernomen in bijlage van dit besluit., het formulier dat bedoeld is om na te gaan of de voorwaarden voor het behoud van het fiscale gunstregime, dat werd bekomen in het kader van het overdracht van een familiale vennootschap, vervuld zijn gebleven tot het einde van de driejarige periode die aanving bij het overlijden van de decujus, zoals bedoeld in artikel bis , ss van het wetboek der successierechten, is hernomen in bijlage bij dit besluit.]\n"
     ]
    }
   ],
   "source": [
    "summarized_sentence=nlargest(3,sent_strenght,key=sent_strenght.get)\n",
    "print(summarized_sentence)"
   ]
  },
  {
   "cell_type": "code",
   "execution_count": null,
   "metadata": {},
   "outputs": [],
   "source": [
    "print(summarized_sentence[0])"
   ]
  },
  {
   "cell_type": "code",
   "execution_count": null,
   "metadata": {},
   "outputs": [],
   "source": [
    "for sent in doc.sents:\n",
    "    print(sent.text)\n",
    "    print('-------------------------------------')"
   ]
  },
  {
   "cell_type": "code",
   "execution_count": null,
   "metadata": {},
   "outputs": [],
   "source": [
    "text"
   ]
  },
  {
   "cell_type": "code",
   "execution_count": null,
   "metadata": {},
   "outputs": [],
   "source": [
    "for token in doc:\n",
    "    print(token.text, \" / \", token.lemma_, )"
   ]
  },
  {
   "cell_type": "code",
   "execution_count": null,
   "metadata": {},
   "outputs": [],
   "source": [
    "doc"
   ]
  }
 ],
 "metadata": {
  "interpreter": {
   "hash": "78048d5901510aba3f63ef87ca1b57ab9d805b11f89c30917e9241a8225bb540"
  },
  "kernelspec": {
   "display_name": "Python 3.10.2 ('venvkpmg': venv)",
   "language": "python",
   "name": "python3"
  },
  "language_info": {
   "codemirror_mode": {
    "name": "ipython",
    "version": 3
   },
   "file_extension": ".py",
   "mimetype": "text/x-python",
   "name": "python",
   "nbconvert_exporter": "python",
   "pygments_lexer": "ipython3",
   "version": "3.10.2"
  },
  "orig_nbformat": 4
 },
 "nbformat": 4,
 "nbformat_minor": 2
}
