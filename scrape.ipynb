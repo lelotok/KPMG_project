{
 "cells": [
  {
   "cell_type": "code",
   "execution_count": 1,
   "metadata": {},
   "outputs": [],
   "source": [
    "import pandas as pd\n",
    "import sys\n",
    "import requests\n",
    "from bs4 import BeautifulSoup\n",
    "import re\n",
    "\n",
    "import csv\n",
    "sys.setrecursionlimit(1000000)\n",
    "data=pd.read_csv('./data/KPMG _Tax_Case_Data _Set.csv')"
   ]
  },
  {
   "cell_type": "code",
   "execution_count": null,
   "metadata": {},
   "outputs": [],
   "source": [
    "\n",
    "\n",
    "links=list(data['Link FR'])  #first fremch than dutch 'Link NL'\n",
    "#links=list(data['Link NL'])\n",
    "\n",
    "nl_list=[]\n",
    "baslik=[]\n",
    "_count=0 # to check which line \n",
    "for a in links:\n",
    "    _count+=1\n",
    "    res = requests.get(a)\n",
    "    soup = BeautifulSoup(res.text, 'html.parser')\n",
    "    for sup in soup.find_all('sup'):\n",
    "        sup.unwrap()\n",
    "   \n",
    "     \n",
    "    text=soup.text\n",
    "    text=text.replace('\\n',\"\")\n",
    "    lst=text.split('Numac :')[1].split(text.split('Numac :')[2])\n",
    "  \n",
    "\n",
    "    t=lst[1].split('begin eerste woord laatste')[0].strip()\n",
    "    nl_list.append(t)\n",
    "    print(_count)\n",
    "    "
   ]
  },
  {
   "cell_type": "code",
   "execution_count": null,
   "metadata": {},
   "outputs": [],
   "source": [
    "data['fr_body'] = nl_list\n",
    "#data['nl_body'] = nl_list\n"
   ]
  },
  {
   "cell_type": "code",
   "execution_count": null,
   "metadata": {},
   "outputs": [],
   "source": [
    "data.head(5)"
   ]
  },
  {
   "cell_type": "code",
   "execution_count": null,
   "metadata": {},
   "outputs": [],
   "source": [
    "data.to_csv(\"data_03.csv\",sep=\"|\",index=False,encoding='utf-8')"
   ]
  },
  {
   "cell_type": "code",
   "execution_count": null,
   "metadata": {},
   "outputs": [],
   "source": [
    "df=pd.read_csv(\"data_03.csv\",sep=\"|\",encoding='utf-8')"
   ]
  }
 ],
 "metadata": {
  "interpreter": {
   "hash": "0c85d9c49dfc86e728f8390fa2555b0438875bf3d9f12e31136f90b397ec6c6b"
  },
  "kernelspec": {
   "display_name": "Python 3.10.2 ('env': venv)",
   "language": "python",
   "name": "python3"
  },
  "language_info": {
   "codemirror_mode": {
    "name": "ipython",
    "version": 3
   },
   "file_extension": ".py",
   "mimetype": "text/x-python",
   "name": "python",
   "nbconvert_exporter": "python",
   "pygments_lexer": "ipython3",
   "version": "3.10.2"
  },
  "orig_nbformat": 4
 },
 "nbformat": 4,
 "nbformat_minor": 2
}
