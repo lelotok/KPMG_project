{
  "nbformat": 4,
  "nbformat_minor": 0,
  "metadata": {
    "colab": {
      "name": "Untitled0.ipynb",
      "provenance": []
    },
    "kernelspec": {
      "name": "python3",
      "display_name": "Python 3"
    },
    "language_info": {
      "name": "python"
    }
  },
  "cells": [
    {
      "cell_type": "code",
      "execution_count": null,
      "metadata": {
        "id": "fyvWCV1Fevu3"
      },
      "outputs": [],
      "source": [
        "nl_tax_keywords = [\"Aanslagjaar\",\"successierechten\",\"belasting\", \"Wetboek der Successierechten\",\"fiscale hervorming\",\"fiscale gunstregime\",\n",
        "                   \"belasting over de toegevoegde waarde\",\"BTW\",\"kadastraal inkomen\",\"onroerende voorheffing\",\n",
        "                   \"Algemene Administratie van de Fiscaliteit\",\"Inkomstenbelastingen\",\"belastingvermindering\",\"fiscale stimulans\",\n",
        "                   \"belastbaar tijdperk\",\"Belcotax-on-web\",\"Bedrijfsvoorheffing\",\"Het Wetboek van de inkomstenbelastingen\",\n",
        "                   \"het Wetboek diverse rechten en taksen\",\"fiscale schuldvorderingen\",\"het Wetboek diverse rechten en taksen\",\n",
        "                   \"fiscale schuldvorderingen\",\"belastingen op beroepsinkomsten\",\"vennootschapsbelastingen\",\"belastingen op onroerende goederen\",\n",
        "                   \"verbruiksbelastingen\",\"verkeersbelastingen\",\"afvalbelastingen\",\"provinciebelastingen\",\"milieutaksen\",\"belastingaangifte\",\n",
        "                   \"belastingteruggave\",\"Biztax\",\"Intervat\",\"Rv-on-web\",\"FinProf\",\"MyMinFinPro\",\"roerende voorheffing\",\"vennootschapsbelasting\",\n",
        "                   \"rechtspersonenbelasting\",\"belastingkorting\", \"Bronbelasting\", \"fiscale bepalingenbelastingontduiking\",\"Belastingontwijking\",\n",
        "                   \"fiscaal voordeel\",\"Aftrekbare besteding\",\"Belastingvrije som\", \"Belastingkrediet\",\"Decumul\",\"Forfaitaire beroepskosten\",\n",
        "                   \"Gemeenschappelijke aanslag\",\"Gemiddelde aanslagvoet\",\"Huwelijksquotiënt\",\"Inkomstenjaar\",\"Marginale aanslagvoet\",\n",
        "                   \"Onroerende voorheffing\",\"Opcentiemen\",\"Progressieve belastingtarieven\",\"Verbeterd gemiddeld tarief\",\"Vrijstelling met progressievoorbehoud\"]\n"
      ]
    },
    {
      "cell_type": "code",
      "source": [
        "\n",
        "fr_tax_keywords = [\"les impôts sur l'immobilier\",\"les impôts de consommation\", \"les taxes de circulation\",\"les taxes sur les déchets\",\"les taxes provinciales\",\"les écotaxes\",\n",
        "                   \"déclaration d'impôt\",\"remboursement d'impôts\",\"Biztax\",\"Intervat\",\"Rv-on-web\",\"FinProf\",\"MyMinFinPro\",\"précompte mobilier\",\"précompte mobilier\"\n",
        "                   \"impôt des sociétés\",\"des personnes morales\",\"réduction d'impôt\",\"L'impôt retenu\",\"dispositions fiscales\",\"évasion fiscale\",\"Optimisation fiscale\",\n",
        "                   \"avantages fiscaux\",\"Dépenses déductibles\",\"Crédits d'impôts\",\"Le prix hors taxe\"]\n"
      ],
      "metadata": {
        "id": "x3SOGbhEiWNo"
      },
      "execution_count": null,
      "outputs": []
    },
    {
      "cell_type": "code",
      "source": [
        "en_tax_keywords = [\"Tax\",\"Tax year\", \"Inheritance tax\", \"Inheritance Tax Code\",\"Tax reform\",\"Tax concessions\",\"Value added tax\",\"VAT\",\"cadastral income\",\"Property tax\",\n",
        "                   \"General Administration of Taxation\",\"Income tax\",\"Tax reduction\",\"Tax incentive\", \"taxable period\",\"Belcotax-on-web\",\"withholding tax\",\"The Income Tax Code\",\n",
        "                   \"Various Rights and Taxes Code\",\"Tax claims\",\"taxes on professional income\",\"corporate taxes\",\"property taxes\",\"consumption taxes\", \"excise duty\",\n",
        "                   \"road taxes\",\"waste taxes\",\"county taxes\",\"environmental taxes\",\"Tax return\",\"Tax refund\",\"Biztax\",\"Intervat\",\"Rv-on-web\",\"FinProf\",\"MyMinFinPro\",\n",
        "                    \"withholding tax on movable property\",\"corporate income tax\",\"income tax on legal entities\",\"Tax rebate\", \"Retention tax\",\"Tax provisions\", \"tax evasion\",\n",
        "                   \"Tax avoidance\",\"Tax advantage\", \"Deductible expenditure\",\"Tax credit\",\"Tax free sum\"]"
      ],
      "metadata": {
        "id": "Yfsv8x3Ijkat"
      },
      "execution_count": null,
      "outputs": []
    }
  ]
}